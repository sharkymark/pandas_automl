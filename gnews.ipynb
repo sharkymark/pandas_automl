{
 "cells": [
  {
   "cell_type": "code",
   "execution_count": 47,
   "id": "4e3b44ce-41a8-47d0-a555-57fdb0c9b308",
   "metadata": {},
   "outputs": [],
   "source": [
    "from datetime import date\n",
    "from gnews import *"
   ]
  },
  {
   "cell_type": "code",
   "execution_count": null,
   "id": "a0b0f0af-c2cb-4b13-9d06-db31e667b2f7",
   "metadata": {},
   "outputs": [],
   "source": [
    "# https://pypi.org/project/gnews/"
   ]
  },
  {
   "cell_type": "code",
   "execution_count": 49,
   "id": "c1980164-0e6a-428e-85f9-3ae9fcdd290b",
   "metadata": {},
   "outputs": [],
   "source": [
    "google_news = GNews(language='en', country='US', period='1d',max_results=5)"
   ]
  },
  {
   "cell_type": "code",
   "execution_count": null,
   "id": "12730df0-e612-4fa2-8f4d-88dd565f593d",
   "metadata": {},
   "outputs": [],
   "source": []
  },
  {
   "cell_type": "code",
   "execution_count": 43,
   "id": "f0e8af9e-a94d-4db0-8ad2-e7e670f6dd40",
   "metadata": {
    "scrolled": true
   },
   "outputs": [
    {
     "name": "stdout",
     "output_type": "stream",
     "text": [
      "[{'title': '5 things to know about the apparent assassination attempt on Trump at one of his golf courses - The Associated Press', 'description': '5 things to know about the apparent assassination attempt on Trump at one of his golf courses  The Associated PressTrump assassination attempt suspect laughs, smiles during first court appearance in Florida  Fox NewsTrump’s social media stock reacts to latest security scare  CNNSuspected Gunman at Trump Golf Course Said He Was Willing to Fight and Die in Ukraine  The New York TimesWhat we know on Ryan Routh, the person accused of trying to shoot Trump at his golf course  NBC News', 'published date': 'Mon, 16 Sep 2024 14:31:00 GMT', 'url': 'https://news.google.com/rss/articles/CBMiogFBVV95cUxPLVphbS10U1ExMzBkLUhKVEJPZ0hwcXFESTJQOW9vVl9PT3ltVGdMbVoyM2dBZWU3M20wRHlkTk9sVzJ2RV9RN3AyNklUNG16NzR5WE01SVVSMG5BV0U0a2tJM0Q3ZkpKRU5JelAwUUtKSDVTQ3ZXajUyekVlb0h3d091Vk9yQUZPdVppRjhaZU5fd1RKWERfU0VYVF9ZZnZoOEE?oc=5&hl=en-US&gl=US&ceid=US:en', 'publisher': {'href': 'https://apnews.com', 'title': 'The Associated Press'}}, {'title': 'Three Undecided Voters, Two Swing States, One Big Decision - The New York Times', 'description': 'Three Undecided Voters, Two Swing States, One Big Decision  The New York TimesHarris seen as debate winner while maintaining slight lead over Trump: POLL  ABC NewsWith fact-checks like these, how does truth stand a chance?  The HillNew poll reveals how voters are viewing Trump and Harris after the debate  CNNMajority of Americans say Harris won the debate  Ipsos in Canada', 'published date': 'Mon, 16 Sep 2024 10:00:17 GMT', 'url': 'https://news.google.com/rss/articles/CBMijAFBVV95cUxOdFRZbGFkSHlkSUFuOHRPV0kzQW5aanFKUmgtSnBNTTR4T2VkZGowOThPWG03RjR5YW9GdXlmRkFSUDMyVjRwNnExeVhuNmp3NVVJQ0ZWSENBR2VZLWZOTWpyZF9nNHIzS1BVdTExMVBvWlNHTk5hSWdXb0lWWjY2ZkFfRTMzQmdRNXVjMg?oc=5&hl=en-US&gl=US&ceid=US:en', 'publisher': {'href': 'https://www.nytimes.com', 'title': 'The New York Times'}}, {'title': 'Central Europe braces for more flooding as death toll rises - Reuters.com', 'description': 'Central Europe braces for more flooding as death toll rises  Reuters.comAt least 10 killed in floods as a month’s worth of rain pounds central Europe  CNNWhat We Know About the Deadly Floods in Central Europe  The New York Times4 people found dead in eastern Romania as rainstorms leave hundreds stranded  The Associated Press10,000 Asked To Leave: Floods Hit Czechia, Poland  The Weather Channel', 'published date': 'Mon, 16 Sep 2024 14:44:04 GMT', 'url': 'https://news.google.com/rss/articles/CBMivgFBVV95cUxQN09HX3RMNGJ5bXhucXNwTDVIS3hsMDBiZWtfX1BWYjZzdVQ4Wm14UjJLN29FYTVIQmZkb1c1S0FqcXd4am9OMkZHQmxuZ19keGhxbjJuMmZ5SFpPaW8zOUdVWVlSZnA2SWNmM01oZVRrMVFPZktOQUs4WmEtcnRTcWJoMjRkLUdOWlpmTXpJckNkcmNRSjZCek5RNDdlV1ZvWEp2dUtFcnZ1S01heGNfQnQ2aDlVamtDczNMeHJR?oc=5&hl=en-US&gl=US&ceid=US:en', 'publisher': {'href': 'https://www.reuters.com', 'title': 'Reuters.com'}}, {'title': 'Titan submersible hearing begins as questions linger over what went wrong - NBC News', 'description': 'Titan submersible hearing begins as questions linger over what went wrong  NBC NewsTitan Submersible Was Plagued With Problems, Investigators Say  The New York TimesTitanic sub hearing latest: Last messages from Titan submersible before implosion revealed  Sky NewsTitan sub disaster: Five key questions that remain  BBC.comUS Coast Guard begins public hearing on the implosion of the Titan submersible  CNN', 'published date': 'Mon, 16 Sep 2024 12:30:54 GMT', 'url': 'https://news.google.com/rss/articles/CBMisAFBVV95cUxNUHNJOGU2VVlCNGhsWnJFTlMwMHZGUE45Ym9kV2hGMHdnZEpfZVc3cU0xVUJ3ODNUc3NkckpWbXBJN0N5UFphcHlCUzExZkxDeHhoeGhSNTNDNmQ3b0tRRmhlTUhDbWpfOEozczNKZnJUOUM5bkZNdzFrdk9XcXE0Tmo1dkZMTXlmU0RyRlJGNmNfYWRIQ2dNTXcySlFhM29OWEFISWxIcmRra29mUzhHVdIBVkFVX3lxTFBwR3U2QUU0WXdPaWtpWWlZQ0NDT2pXX0ZrbDZIbjFCM3I4Q1YyZkRQVXNGTVVWdHZVMnE2S0pfZGZhLXlMaWpMNThoS19tenlmcXBwVUx3?oc=5&hl=en-US&gl=US&ceid=US:en', 'publisher': {'href': 'https://www.nbcnews.com', 'title': 'NBC News'}}, {'title': 'Possible Helene Prompts Warnings In North And South Carolina - The Weather Channel', 'description': 'Possible Helene Prompts Warnings In North And South Carolina  The Weather ChannelTropical rainstorm to push onshore in Carolinas packing flooding, strong winds  Yahoo! VoicesStorm nearing Carolinas threatens area with up to 10 inches of rain, possible flooding  USA TODAYEmergency crews on standby as Potential Tropical Cyclone #8 threatens coastal areas  WRAL NewsTropical storm warning issued in South Carolina  WYFF4 Greenville', 'published date': 'Mon, 16 Sep 2024 15:00:00 GMT', 'url': 'https://news.google.com/rss/articles/CBMipgFBVV95cUxOZVZqdVY0TmpfZ0RpU1FOU1VBMEx3a1BMeWVSYm5XLXhnZWJ6MFBfYVZQREd5bmduV3ZITjgteVlrNkZFQnVNTThkMXdwRV9sOHhBV0tZMExERWNTR203NEhyRWFuTHhfMENSQ0hMU3ZXNEZkVXRjYVlTS3IyXzBta24xQU1PY1JkV1pmN0JSUHJqT3oyMVRuVkd6b21xS2p2ZHBJUDB3?oc=5&hl=en-US&gl=US&ceid=US:en', 'publisher': {'href': 'https://weather.com', 'title': 'The Weather Channel'}}]\n",
      "5 things to know about the apparent assassination attempt on Trump at one of his golf courses - The Associated Press\n",
      "The Associated Press\n",
      "https://news.google.com/rss/articles/CBMiogFBVV95cUxPLVphbS10U1ExMzBkLUhKVEJPZ0hwcXFESTJQOW9vVl9PT3ltVGdMbVoyM2dBZWU3M20wRHlkTk9sVzJ2RV9RN3AyNklUNG16NzR5WE01SVVSMG5BV0U0a2tJM0Q3ZkpKRU5JelAwUUtKSDVTQ3ZXajUyekVlb0h3d091Vk9yQUZPdVppRjhaZU5fd1RKWERfU0VYVF9ZZnZoOEE?oc=5&hl=en-US&gl=US&ceid=US:en\n"
     ]
    }
   ],
   "source": [
    "# get top news\n",
    "rsp = google_news.get_top_news()\n",
    "print(rsp)\n",
    "print(rsp[0]['title'])\n",
    "print(rsp[0]['publisher']['title'])\n",
    "print(rsp[0]['url'])"
   ]
  },
  {
   "cell_type": "code",
   "execution_count": null,
   "id": "5a90c8f7-ab65-4106-ba2f-bdd6b83598e5",
   "metadata": {},
   "outputs": [],
   "source": []
  },
  {
   "cell_type": "code",
   "execution_count": 54,
   "id": "ac20c6c7-f480-40f3-8968-451564653766",
   "metadata": {},
   "outputs": [
    {
     "name": "stdout",
     "output_type": "stream",
     "text": [
      "2015-01-01\n",
      "[{'title': \"The presidential campaign moves forward after another apparent attempt on Trump's life - Citrus County Chronicle\", 'description': \"The presidential campaign moves forward after another apparent attempt on Trump's life  Citrus County Chronicle\", 'published date': 'Mon, 16 Sep 2024 13:09:18 GMT', 'url': 'https://news.google.com/rss/articles/CBMijgJBVV95cUxNX3ZuV0Z4aGNrNXowWnR6UkZDTlNic3hGLWgwTlU3NFY3TjQyTkJiY1VqX3N5a0p1N0RnNW5GMDRZbnl0bXJ4ZEZpcmZ0dzBOR1Q2ZC1UOGlfNDY2N0xGaWRCUGhjUGlZZnZEcVA3SFBzMWlBQkZYOFhNM25QWEhKaDdwYmNjMmVHQXk2a29vaGVENHZMWHdIM09BZXZVS0Z6UGRzNEJhR1RKdC12N1hBb3JWZ0ViVWdlcE5mbHAzLTVLSng4M01UUklZNGgyM0t1SkhRVGhEWXlpdmVhQWxyTHZjYVZyd0hXMGFTUzRZbEdoZ2hQS2g0eTBCa3FoWTNXempEU1V0Zkt3VnFXcHc?oc=5&hl=en-US&gl=US&ceid=US:en', 'publisher': {'href': 'https://www.chronicleonline.com', 'title': 'Citrus County Chronicle'}}, {'title': 'FBI Investigates Apparent Attempted Assassination of Former President Trump - ticklethewire.com', 'description': 'FBI Investigates Apparent Attempted Assassination of Former President Trump  ticklethewire.com', 'published date': 'Mon, 16 Sep 2024 11:43:19 GMT', 'url': 'https://news.google.com/rss/articles/CBMipAFBVV95cUxQZ0xPVGVybURpaGExT0FTal9nVG9KSDdLcU5UT0xQcTc0SHQ4b1RhOFZyaktlMW5nYVh6MGFhUHVGYXJ2djdMMDJOYWJXR3pCVUFRZEZZU3dpcTJ5OGNJVU1KaG55TWpRQTR0OUV4T2RIM3plRS04UnNvLVE1bUhJNWcxbGVvQTVLbXBtZFZhN0VjcFdZX29waFFLc0RzQXdpR0dZcA?oc=5&hl=en-US&gl=US&ceid=US:en', 'publisher': {'href': 'https://ticklethewire.com', 'title': 'ticklethewire.com'}}, {'title': 'Trump and Harris face off in contentious debate - CNN', 'description': 'Trump and Harris face off in contentious debate  CNN', 'published date': 'Tue, 10 Sep 2024 09:15:07 GMT', 'url': 'https://news.google.com/rss/articles/CBMiigFBVV95cUxNQ2FHc29NZmtXWC1RWHVaSmhGWGx2QTExcGhpVFNGb0tHWHdmQU1ScnpLa3hiTmxrd2hCbE5QOTZrM042SDZKZUt1Y1ZSemVZX3ZEX01ZZG5ZbkR2d0hwcmpOZGVVWGpHWTlLRmJRVU8yMWs4UXFKRk51UW5vQkdIRUJ0VUotSU15YUE?oc=5&hl=en-US&gl=US&ceid=US:en', 'publisher': {'href': 'https://www.cnn.com', 'title': 'CNN'}}, {'title': 'Ivanka Trump Distances Herself From Father’s Campaign After Debate Disaster - imdb', 'description': 'Ivanka Trump Distances Herself From Father’s Campaign After Debate Disaster  imdb', 'published date': 'Sun, 15 Sep 2024 18:58:47 GMT', 'url': 'https://news.google.com/rss/articles/CBMiYEFVX3lxTE5QNFpCbi1xU1g1U1F5N1ZpQjUyb2JPZEhlVVlqWlN3NHRyV0xpVHFZUFh5Vmk5NG1rc3Y1aFByR0hDM3czbE5LeWVmaEl1dGE2MDNNTTRCMzRpX3VXSm15Vw?oc=5&hl=en-US&gl=US&ceid=US:en', 'publisher': {'href': 'https://m.imdb.com', 'title': 'imdb'}}, {'title': 'Trump - Fairbanks Daily News-Miner', 'description': 'Trump  Fairbanks Daily News-Miner', 'published date': 'Fri, 13 Sep 2024 01:26:47 GMT', 'url': 'https://news.google.com/rss/articles/CBMihgFBVV95cUxNQ015S3A3eWpRVUloN0dfSXJwWW5vZmZsX3hlY0l3WHVOeHZGU2V0RkhaM2VUcG5BY3RUcUI1aF9yVi1CdWxIallkNWg5cDBXUnJUT1RFMC1uaUwwUEJWR3BZZVhvLW4wWk1pdWJzRmJVUVpGbmp0NE9rbDlUeGRBdVd6aHZvdw?oc=5&hl=en-US&gl=US&ceid=US:en', 'publisher': {'href': 'https://www.newsminer.com', 'title': 'Fairbanks Daily News-Miner'}}]\n"
     ]
    }
   ],
   "source": [
    "# Create a date object\n",
    "today = date.today()\n",
    "\n",
    "#google_news.end_date = today\n",
    "google_news.end_date = (2015,1,1)\n",
    "print(google_news.end_date)\n",
    "\n",
    "rsp = google_news.get_news(\"Trump\")\n",
    "\n",
    "#rsp = google_news.get_news_by_site(\"wsj.com\")\n",
    "print(rsp)"
   ]
  },
  {
   "cell_type": "code",
   "execution_count": null,
   "id": "a66052b6-333c-4337-8afa-e714b4b6f688",
   "metadata": {},
   "outputs": [],
   "source": []
  }
 ],
 "metadata": {
  "kernelspec": {
   "display_name": "Python 3 (ipykernel)",
   "language": "python",
   "name": "python3"
  },
  "language_info": {
   "codemirror_mode": {
    "name": "ipython",
    "version": 3
   },
   "file_extension": ".py",
   "mimetype": "text/x-python",
   "name": "python",
   "nbconvert_exporter": "python",
   "pygments_lexer": "ipython3",
   "version": "3.9.19"
  }
 },
 "nbformat": 4,
 "nbformat_minor": 5
}
