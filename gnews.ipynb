{
 "cells": [
  {
   "cell_type": "code",
   "execution_count": null,
   "id": "4e3b44ce-41a8-47d0-a555-57fdb0c9b308",
   "metadata": {},
   "outputs": [],
   "source": [
    "from datetime import date\n",
    "from gnews import *"
   ]
  },
  {
   "cell_type": "code",
   "execution_count": null,
   "id": "a0b0f0af-c2cb-4b13-9d06-db31e667b2f7",
   "metadata": {},
   "outputs": [],
   "source": [
    "# https://pypi.org/project/gnews/"
   ]
  },
  {
   "cell_type": "code",
   "execution_count": null,
   "id": "c1980164-0e6a-428e-85f9-3ae9fcdd290b",
   "metadata": {},
   "outputs": [],
   "source": [
    "google_news = GNews(language='en', country='US', period='1d',max_results=5)"
   ]
  },
  {
   "cell_type": "code",
   "execution_count": null,
   "id": "12730df0-e612-4fa2-8f4d-88dd565f593d",
   "metadata": {},
   "outputs": [],
   "source": []
  },
  {
   "cell_type": "code",
   "execution_count": null,
   "id": "f0e8af9e-a94d-4db0-8ad2-e7e670f6dd40",
   "metadata": {
    "scrolled": true
   },
   "outputs": [],
   "source": [
    "# get top news\n",
    "rsp = google_news.get_top_news()\n",
    "print(rsp)\n",
    "print(rsp[0]['title'])\n",
    "print(rsp[0]['publisher']['title'])\n",
    "print(rsp[0]['url'])"
   ]
  },
  {
   "cell_type": "code",
   "execution_count": null,
   "id": "5a90c8f7-ab65-4106-ba2f-bdd6b83598e5",
   "metadata": {},
   "outputs": [],
   "source": []
  },
  {
   "cell_type": "code",
   "execution_count": null,
   "id": "a66052b6-333c-4337-8afa-e714b4b6f688",
   "metadata": {},
   "outputs": [],
   "source": [
    "\n",
    "#google_news.period = '7d'  # News from last 7 days\n",
    "google_news.max_results = 10  # number of responses across a keyword\n",
    "#google_news.country = 'United States'  # News from a specific country \n",
    "#google_news.language = 'english'  # News in a specific language\n",
    "#google_news.exclude_websites = ['yahoo.com', 'cnn.com']  # Exclude news from specific website i.e Yahoo.com and CNN.com\n",
    "google_news.start_date = (2020, 1, 1) # Search from 1st Jan 2020\n",
    "google_news.end_date = (2020, 3, 1) # Search until 1st March 2020\n",
    "rsp = google_news.get_news(\"Austin, Texas\")\n",
    "#rsp = google_news.get_top_news()\n",
    "print(rsp)"
   ]
  },
  {
   "cell_type": "code",
   "execution_count": null,
   "id": "55c81158-0be8-4995-b578-a2d92313bea9",
   "metadata": {
    "scrolled": true
   },
   "outputs": [],
   "source": [
    "\n",
    "available_countries = GNews().countries\n",
    "print(available_countries)"
   ]
  },
  {
   "cell_type": "code",
   "execution_count": null,
   "id": "4b0945f6-f5f3-4c64-951a-dfb3480ac5be",
   "metadata": {},
   "outputs": [],
   "source": [
    "available_languages = GNews().languages\n",
    "print(available_languages)"
   ]
  },
  {
   "cell_type": "code",
   "execution_count": null,
   "id": "df23951a-c985-451b-aef0-c4aba8ca5ea4",
   "metadata": {},
   "outputs": [],
   "source": []
  }
 ],
 "metadata": {
  "kernelspec": {
   "display_name": "Python 3 (ipykernel)",
   "language": "python",
   "name": "python3"
  },
  "language_info": {
   "codemirror_mode": {
    "name": "ipython",
    "version": 3
   },
   "file_extension": ".py",
   "mimetype": "text/x-python",
   "name": "python",
   "nbconvert_exporter": "python",
   "pygments_lexer": "ipython3",
   "version": "3.9.19"
  }
 },
 "nbformat": 4,
 "nbformat_minor": 5
}
