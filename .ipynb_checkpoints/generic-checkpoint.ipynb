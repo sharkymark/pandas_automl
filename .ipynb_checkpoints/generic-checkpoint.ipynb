{
 "cells": [
  {
   "cell_type": "code",
   "execution_count": 1,
   "metadata": {},
   "outputs": [],
   "source": [
    "# Jupyter notebook to analyze datasets to be used for machine learning training of models, and model scoring\n",
    "\n",
    "# import Pandas library to manipulate and analyze datasets\n",
    "import pandas as pd\n",
    "import numpy as np\n",
    "\n",
    "pd.set_option('display.max_columns',None)"
   ]
  },
  {
   "cell_type": "code",
   "execution_count": 24,
   "metadata": {},
   "outputs": [],
   "source": [
    "# load datasets\n",
    "\n",
    "# telco provider customer churn\n",
    "df_churn_train = pd.read_csv('./sets/customer_churn_train.csv',sep=\",\", encoding = \"utf-8\", low_memory=False)\n",
    "df_churn_test = pd.read_csv('./sets/customer_churn_test.csv',sep=\",\", encoding = \"utf-8\", low_memory=False)\n",
    "\n",
    "# tumor malignant \n",
    "df_cancer_train = pd.read_csv('./sets/cancer_train.csv',sep=\",\", encoding = \"utf-8\", low_memory=False)\n",
    "df_cancer_test = pd.read_csv('./sets/market_train.csv',sep=\",\", encoding = \"utf-8\", low_memory=False)\n",
    "\n",
    "# hospital patient readmit\n",
    "df_readmit = pd.read_csv('./sets/patient_re_admit_train.csv',sep=\",\", encoding = \"utf-8\", low_memory=False)\n",
    "\n",
    "# boston housing sale data\n",
    "df_boston_housing = pd.read_csv('./sets/boston_housing_train.csv',sep=\",\", encoding = \"utf-8\", low_memory=False)\n",
    "\n",
    "# customer life-time value\n",
    "df_ltv = pd.read_csv('./sets/ltv_train.csv',sep=\",\", encoding = \"utf-8\", low_memory=False)\n",
    "\n",
    "# employee retention\n",
    "df_retention = pd.read_csv('./sets/retention_train.csv',sep=\",\", encoding = \"utf-8\", low_memory=False)\n",
    "\n",
    "# bank loan defaults\n",
    "df_loan_default = pd.read_csv('./sets/loan_default_dr_train.csv',sep=\",\", encoding = \"utf-8\", low_memory=False)\n",
    "\n",
    "# predictive maintenance for equipment\n",
    "df_pdm = pd.read_csv('./sets/pdm_machine_train.csv',sep=\",\", encoding = \"utf-8\", low_memory=False)\n",
    "\n",
    "# Vermont Public Safety datasets \n",
    "# https://data.vermont.gov/browse?q=public%20safety&sortBy=relevance\n",
    "# traffic fatalities\n",
    "df_traffic_fatalities = pd.read_json('https://data.vermont.gov/resource/kurq-9xgq.json')\n",
    "\n",
    "# dui\n",
    "df_dui = pd.read_json('https://data.vermont.gov/resource/cgjb-4rbe.json')\n",
    "\n",
    "# dui with crash\n",
    "df_dui_crash = pd.read_json('https://data.vermont.gov/resource/qpcy-6kzw.json')"
   ]
  },
  {
   "cell_type": "code",
   "execution_count": null,
   "metadata": {},
   "outputs": [],
   "source": []
  },
  {
   "cell_type": "code",
   "execution_count": null,
   "metadata": {},
   "outputs": [],
   "source": [
    "# employee retention analysis"
   ]
  },
  {
   "cell_type": "code",
   "execution_count": 25,
   "metadata": {},
   "outputs": [
    {
     "data": {
      "text/plain": [
       "(11998, 10)"
      ]
     },
     "execution_count": 25,
     "metadata": {},
     "output_type": "execute_result"
    }
   ],
   "source": [
    "df_retention.shape"
   ]
  },
  {
   "cell_type": "code",
   "execution_count": 27,
   "metadata": {
    "collapsed": true,
    "jupyter": {
     "outputs_hidden": true
    },
    "tags": []
   },
   "outputs": [
    {
     "data": {
      "text/plain": [
       "['satisfaction_level',\n",
       " 'last_evaluation',\n",
       " 'number_project',\n",
       " 'average_montly_hours',\n",
       " 'time_spend_company',\n",
       " 'Work_accident',\n",
       " 'left',\n",
       " 'promotion_last_5years',\n",
       " 'group_id',\n",
       " 'salary']"
      ]
     },
     "execution_count": 27,
     "metadata": {},
     "output_type": "execute_result"
    }
   ],
   "source": [
    "list(df_retention)"
   ]
  },
  {
   "cell_type": "code",
   "execution_count": 33,
   "metadata": {
    "collapsed": true,
    "jupyter": {
     "outputs_hidden": true
    },
    "tags": []
   },
   "outputs": [
    {
     "data": {
      "text/html": [
       "<div>\n",
       "<style scoped>\n",
       "    .dataframe tbody tr th:only-of-type {\n",
       "        vertical-align: middle;\n",
       "    }\n",
       "\n",
       "    .dataframe tbody tr th {\n",
       "        vertical-align: top;\n",
       "    }\n",
       "\n",
       "    .dataframe thead th {\n",
       "        text-align: right;\n",
       "    }\n",
       "</style>\n",
       "<table border=\"1\" class=\"dataframe\">\n",
       "  <thead>\n",
       "    <tr style=\"text-align: right;\">\n",
       "      <th></th>\n",
       "      <th>satisfaction_level</th>\n",
       "      <th>last_evaluation</th>\n",
       "      <th>number_project</th>\n",
       "      <th>average_montly_hours</th>\n",
       "      <th>time_spend_company</th>\n",
       "      <th>Work_accident</th>\n",
       "      <th>left</th>\n",
       "      <th>promotion_last_5years</th>\n",
       "      <th>group_id</th>\n",
       "      <th>salary</th>\n",
       "    </tr>\n",
       "  </thead>\n",
       "  <tbody>\n",
       "    <tr>\n",
       "      <th>0</th>\n",
       "      <td>0.38</td>\n",
       "      <td>0.53</td>\n",
       "      <td>2</td>\n",
       "      <td>157</td>\n",
       "      <td>3</td>\n",
       "      <td>0</td>\n",
       "      <td>1</td>\n",
       "      <td>0</td>\n",
       "      <td>sales</td>\n",
       "      <td>low</td>\n",
       "    </tr>\n",
       "    <tr>\n",
       "      <th>1</th>\n",
       "      <td>0.80</td>\n",
       "      <td>0.86</td>\n",
       "      <td>5</td>\n",
       "      <td>262</td>\n",
       "      <td>6</td>\n",
       "      <td>0</td>\n",
       "      <td>1</td>\n",
       "      <td>0</td>\n",
       "      <td>sales</td>\n",
       "      <td>medium</td>\n",
       "    </tr>\n",
       "    <tr>\n",
       "      <th>2</th>\n",
       "      <td>0.11</td>\n",
       "      <td>0.88</td>\n",
       "      <td>7</td>\n",
       "      <td>272</td>\n",
       "      <td>4</td>\n",
       "      <td>0</td>\n",
       "      <td>1</td>\n",
       "      <td>0</td>\n",
       "      <td>sales</td>\n",
       "      <td>medium</td>\n",
       "    </tr>\n",
       "    <tr>\n",
       "      <th>3</th>\n",
       "      <td>0.72</td>\n",
       "      <td>0.87</td>\n",
       "      <td>5</td>\n",
       "      <td>223</td>\n",
       "      <td>5</td>\n",
       "      <td>0</td>\n",
       "      <td>1</td>\n",
       "      <td>0</td>\n",
       "      <td>sales</td>\n",
       "      <td>low</td>\n",
       "    </tr>\n",
       "    <tr>\n",
       "      <th>4</th>\n",
       "      <td>0.37</td>\n",
       "      <td>0.52</td>\n",
       "      <td>2</td>\n",
       "      <td>159</td>\n",
       "      <td>3</td>\n",
       "      <td>0</td>\n",
       "      <td>1</td>\n",
       "      <td>0</td>\n",
       "      <td>sales</td>\n",
       "      <td>low</td>\n",
       "    </tr>\n",
       "  </tbody>\n",
       "</table>\n",
       "</div>"
      ],
      "text/plain": [
       "   satisfaction_level  last_evaluation  number_project  average_montly_hours  \\\n",
       "0                0.38             0.53               2                   157   \n",
       "1                0.80             0.86               5                   262   \n",
       "2                0.11             0.88               7                   272   \n",
       "3                0.72             0.87               5                   223   \n",
       "4                0.37             0.52               2                   159   \n",
       "\n",
       "   time_spend_company  Work_accident  left  promotion_last_5years group_id  \\\n",
       "0                   3              0     1                      0    sales   \n",
       "1                   6              0     1                      0    sales   \n",
       "2                   4              0     1                      0    sales   \n",
       "3                   5              0     1                      0    sales   \n",
       "4                   3              0     1                      0    sales   \n",
       "\n",
       "   salary  \n",
       "0     low  \n",
       "1  medium  \n",
       "2  medium  \n",
       "3     low  \n",
       "4     low  "
      ]
     },
     "execution_count": 33,
     "metadata": {},
     "output_type": "execute_result"
    }
   ],
   "source": [
    "df_retention.head(5)"
   ]
  },
  {
   "cell_type": "code",
   "execution_count": 29,
   "metadata": {
    "collapsed": true,
    "jupyter": {
     "outputs_hidden": true
    },
    "tags": []
   },
   "outputs": [
    {
     "data": {
      "text/plain": [
       "sales          3245\n",
       "technical      2244\n",
       "support        1821\n",
       "IT              976\n",
       "RandD           695\n",
       "product_mng     686\n",
       "marketing       672\n",
       "accounting      622\n",
       "hr              601\n",
       "management      436\n",
       "Name: group_id, dtype: int64"
      ]
     },
     "execution_count": 29,
     "metadata": {},
     "output_type": "execute_result"
    }
   ],
   "source": [
    "df_retention['group_id'].value_counts()"
   ]
  },
  {
   "cell_type": "code",
   "execution_count": null,
   "metadata": {},
   "outputs": [],
   "source": []
  },
  {
   "cell_type": "code",
   "execution_count": null,
   "metadata": {},
   "outputs": [],
   "source": [
    "# boston housing data"
   ]
  },
  {
   "cell_type": "code",
   "execution_count": 31,
   "metadata": {
    "collapsed": true,
    "jupyter": {
     "outputs_hidden": true
    },
    "tags": []
   },
   "outputs": [
    {
     "data": {
      "text/plain": [
       "(29998, 33)"
      ]
     },
     "execution_count": 31,
     "metadata": {},
     "output_type": "execute_result"
    }
   ],
   "source": [
    "df_boston_housing.shape"
   ]
  },
  {
   "cell_type": "code",
   "execution_count": 32,
   "metadata": {
    "collapsed": true,
    "jupyter": {
     "outputs_hidden": true
    },
    "tags": []
   },
   "outputs": [
    {
     "data": {
      "text/html": [
       "<div>\n",
       "<style scoped>\n",
       "    .dataframe tbody tr th:only-of-type {\n",
       "        vertical-align: middle;\n",
       "    }\n",
       "\n",
       "    .dataframe tbody tr th {\n",
       "        vertical-align: top;\n",
       "    }\n",
       "\n",
       "    .dataframe thead th {\n",
       "        text-align: right;\n",
       "    }\n",
       "</style>\n",
       "<table border=\"1\" class=\"dataframe\">\n",
       "  <thead>\n",
       "    <tr style=\"text-align: right;\">\n",
       "      <th></th>\n",
       "      <th>PID</th>\n",
       "      <th>ST_NUM</th>\n",
       "      <th>ST_NAME</th>\n",
       "      <th>ST_NAME_SUF</th>\n",
       "      <th>ZIPCODE</th>\n",
       "      <th>Assessed_Value</th>\n",
       "      <th>Lot_Area</th>\n",
       "      <th>Gross_Area</th>\n",
       "      <th>Living_Area</th>\n",
       "      <th>Owner_Occupied</th>\n",
       "      <th>Year_Built</th>\n",
       "      <th>Number_of_Floors</th>\n",
       "      <th>Total_Number_of_Rooms</th>\n",
       "      <th>Number_of_Bedrooms</th>\n",
       "      <th>Number_of_Full_Baths</th>\n",
       "      <th>Number_of_Half_Baths</th>\n",
       "      <th>Number_of_Kitchens</th>\n",
       "      <th>Has_AC</th>\n",
       "      <th>Number_of_Fireplaces</th>\n",
       "      <th>Year_Since_Remodel_or_Build</th>\n",
       "      <th>Year_Remodeled</th>\n",
       "      <th>Structure_Type</th>\n",
       "      <th>Building_Style</th>\n",
       "      <th>Roof_Type</th>\n",
       "      <th>Exterior_Finish</th>\n",
       "      <th>Main_Bathroom_Style</th>\n",
       "      <th>Main_Kitchen_Style</th>\n",
       "      <th>Heating_type</th>\n",
       "      <th>Exterior_Condition</th>\n",
       "      <th>Overall_Condition</th>\n",
       "      <th>Interior_Condition</th>\n",
       "      <th>Interior_Finish</th>\n",
       "      <th>View</th>\n",
       "    </tr>\n",
       "  </thead>\n",
       "  <tbody>\n",
       "    <tr>\n",
       "      <th>0</th>\n",
       "      <td>2001658000_</td>\n",
       "      <td>43</td>\n",
       "      <td>STRATFORD</td>\n",
       "      <td>ST</td>\n",
       "      <td>02132_</td>\n",
       "      <td>963300</td>\n",
       "      <td>20897</td>\n",
       "      <td>7396</td>\n",
       "      <td>3887</td>\n",
       "      <td>1</td>\n",
       "      <td>1910</td>\n",
       "      <td>2.0</td>\n",
       "      <td>13</td>\n",
       "      <td>4</td>\n",
       "      <td>1</td>\n",
       "      <td>1</td>\n",
       "      <td>1</td>\n",
       "      <td>1</td>\n",
       "      <td>1</td>\n",
       "      <td>3</td>\n",
       "      <td>2014</td>\n",
       "      <td>Residential</td>\n",
       "      <td>Colonial</td>\n",
       "      <td>Hip</td>\n",
       "      <td>Vinyl</td>\n",
       "      <td>Modern</td>\n",
       "      <td>Modern</td>\n",
       "      <td>Forced Air</td>\n",
       "      <td>Average</td>\n",
       "      <td>Average</td>\n",
       "      <td>Average</td>\n",
       "      <td>Normal</td>\n",
       "      <td>Average</td>\n",
       "    </tr>\n",
       "    <tr>\n",
       "      <th>1</th>\n",
       "      <td>2001659000_</td>\n",
       "      <td>47</td>\n",
       "      <td>STRATFORD</td>\n",
       "      <td>ST</td>\n",
       "      <td>02132_</td>\n",
       "      <td>915600</td>\n",
       "      <td>9856</td>\n",
       "      <td>6730</td>\n",
       "      <td>3566</td>\n",
       "      <td>1</td>\n",
       "      <td>1910</td>\n",
       "      <td>2.0</td>\n",
       "      <td>9</td>\n",
       "      <td>4</td>\n",
       "      <td>1</td>\n",
       "      <td>0</td>\n",
       "      <td>1</td>\n",
       "      <td>0</td>\n",
       "      <td>2</td>\n",
       "      <td>25</td>\n",
       "      <td>1992</td>\n",
       "      <td>Residential</td>\n",
       "      <td>Colonial</td>\n",
       "      <td>Hip</td>\n",
       "      <td>Wood Shake</td>\n",
       "      <td>Modern</td>\n",
       "      <td>Modern</td>\n",
       "      <td>Hot Water</td>\n",
       "      <td>Average</td>\n",
       "      <td>Average</td>\n",
       "      <td>Good</td>\n",
       "      <td>Normal</td>\n",
       "      <td>Average</td>\n",
       "    </tr>\n",
       "    <tr>\n",
       "      <th>2</th>\n",
       "      <td>2001660000_</td>\n",
       "      <td>53</td>\n",
       "      <td>STRATFORD</td>\n",
       "      <td>ST</td>\n",
       "      <td>02132_</td>\n",
       "      <td>911400</td>\n",
       "      <td>8415</td>\n",
       "      <td>6442</td>\n",
       "      <td>2843</td>\n",
       "      <td>1</td>\n",
       "      <td>1910</td>\n",
       "      <td>2.0</td>\n",
       "      <td>11</td>\n",
       "      <td>6</td>\n",
       "      <td>2</td>\n",
       "      <td>1</td>\n",
       "      <td>1</td>\n",
       "      <td>1</td>\n",
       "      <td>1</td>\n",
       "      <td>6</td>\n",
       "      <td>2011</td>\n",
       "      <td>Residential</td>\n",
       "      <td>Colonial</td>\n",
       "      <td>Gable</td>\n",
       "      <td>Wood Shake</td>\n",
       "      <td>Semi-Modern</td>\n",
       "      <td>Modern</td>\n",
       "      <td>Hot Water</td>\n",
       "      <td>Good</td>\n",
       "      <td>Good</td>\n",
       "      <td>Good</td>\n",
       "      <td>Normal</td>\n",
       "      <td>Average</td>\n",
       "    </tr>\n",
       "    <tr>\n",
       "      <th>3</th>\n",
       "      <td>2001661000_</td>\n",
       "      <td>57</td>\n",
       "      <td>STRATFORD</td>\n",
       "      <td>ST</td>\n",
       "      <td>02132_</td>\n",
       "      <td>862500</td>\n",
       "      <td>8333</td>\n",
       "      <td>6020</td>\n",
       "      <td>3558</td>\n",
       "      <td>1</td>\n",
       "      <td>1910</td>\n",
       "      <td>2.5</td>\n",
       "      <td>11</td>\n",
       "      <td>6</td>\n",
       "      <td>2</td>\n",
       "      <td>0</td>\n",
       "      <td>1</td>\n",
       "      <td>0</td>\n",
       "      <td>1</td>\n",
       "      <td>27</td>\n",
       "      <td>1990</td>\n",
       "      <td>Residential</td>\n",
       "      <td>Colonial</td>\n",
       "      <td>Hip</td>\n",
       "      <td>Wood Shake</td>\n",
       "      <td>Semi-Modern</td>\n",
       "      <td>Modern</td>\n",
       "      <td>Hot Water</td>\n",
       "      <td>Average</td>\n",
       "      <td>Average</td>\n",
       "      <td>Good</td>\n",
       "      <td>Normal</td>\n",
       "      <td>Average</td>\n",
       "    </tr>\n",
       "    <tr>\n",
       "      <th>4</th>\n",
       "      <td>2001662000_</td>\n",
       "      <td>61</td>\n",
       "      <td>STRATFORD</td>\n",
       "      <td>ST</td>\n",
       "      <td>02132_</td>\n",
       "      <td>789300</td>\n",
       "      <td>8232</td>\n",
       "      <td>5574</td>\n",
       "      <td>2978</td>\n",
       "      <td>1</td>\n",
       "      <td>1910</td>\n",
       "      <td>2.0</td>\n",
       "      <td>9</td>\n",
       "      <td>5</td>\n",
       "      <td>2</td>\n",
       "      <td>0</td>\n",
       "      <td>1</td>\n",
       "      <td>0</td>\n",
       "      <td>1</td>\n",
       "      <td>14</td>\n",
       "      <td>2003</td>\n",
       "      <td>Residential</td>\n",
       "      <td>Colonial</td>\n",
       "      <td>Gable</td>\n",
       "      <td>Wood Shake</td>\n",
       "      <td>Modern</td>\n",
       "      <td>Modern</td>\n",
       "      <td>Hot Water</td>\n",
       "      <td>Average</td>\n",
       "      <td>Average</td>\n",
       "      <td>Good</td>\n",
       "      <td>Normal</td>\n",
       "      <td>Average</td>\n",
       "    </tr>\n",
       "  </tbody>\n",
       "</table>\n",
       "</div>"
      ],
      "text/plain": [
       "           PID ST_NUM    ST_NAME ST_NAME_SUF ZIPCODE  Assessed_Value  \\\n",
       "0  2001658000_     43  STRATFORD          ST  02132_          963300   \n",
       "1  2001659000_     47  STRATFORD          ST  02132_          915600   \n",
       "2  2001660000_     53  STRATFORD          ST  02132_          911400   \n",
       "3  2001661000_     57  STRATFORD          ST  02132_          862500   \n",
       "4  2001662000_     61  STRATFORD          ST  02132_          789300   \n",
       "\n",
       "   Lot_Area  Gross_Area  Living_Area  Owner_Occupied  Year_Built  \\\n",
       "0     20897        7396         3887               1        1910   \n",
       "1      9856        6730         3566               1        1910   \n",
       "2      8415        6442         2843               1        1910   \n",
       "3      8333        6020         3558               1        1910   \n",
       "4      8232        5574         2978               1        1910   \n",
       "\n",
       "   Number_of_Floors  Total_Number_of_Rooms  Number_of_Bedrooms  \\\n",
       "0               2.0                     13                   4   \n",
       "1               2.0                      9                   4   \n",
       "2               2.0                     11                   6   \n",
       "3               2.5                     11                   6   \n",
       "4               2.0                      9                   5   \n",
       "\n",
       "   Number_of_Full_Baths  Number_of_Half_Baths  Number_of_Kitchens  Has_AC  \\\n",
       "0                     1                     1                   1       1   \n",
       "1                     1                     0                   1       0   \n",
       "2                     2                     1                   1       1   \n",
       "3                     2                     0                   1       0   \n",
       "4                     2                     0                   1       0   \n",
       "\n",
       "   Number_of_Fireplaces  Year_Since_Remodel_or_Build Year_Remodeled  \\\n",
       "0                     1                            3           2014   \n",
       "1                     2                           25           1992   \n",
       "2                     1                            6           2011   \n",
       "3                     1                           27           1990   \n",
       "4                     1                           14           2003   \n",
       "\n",
       "  Structure_Type Building_Style Roof_Type Exterior_Finish Main_Bathroom_Style  \\\n",
       "0    Residential       Colonial       Hip           Vinyl              Modern   \n",
       "1    Residential       Colonial       Hip      Wood Shake              Modern   \n",
       "2    Residential       Colonial     Gable      Wood Shake         Semi-Modern   \n",
       "3    Residential       Colonial       Hip      Wood Shake         Semi-Modern   \n",
       "4    Residential       Colonial     Gable      Wood Shake              Modern   \n",
       "\n",
       "  Main_Kitchen_Style Heating_type Exterior_Condition Overall_Condition  \\\n",
       "0             Modern   Forced Air            Average           Average   \n",
       "1             Modern    Hot Water            Average           Average   \n",
       "2             Modern    Hot Water               Good              Good   \n",
       "3             Modern    Hot Water            Average           Average   \n",
       "4             Modern    Hot Water            Average           Average   \n",
       "\n",
       "  Interior_Condition Interior_Finish     View  \n",
       "0            Average          Normal  Average  \n",
       "1               Good          Normal  Average  \n",
       "2               Good          Normal  Average  \n",
       "3               Good          Normal  Average  \n",
       "4               Good          Normal  Average  "
      ]
     },
     "execution_count": 32,
     "metadata": {},
     "output_type": "execute_result"
    }
   ],
   "source": [
    "df_boston_housing.head(5)"
   ]
  },
  {
   "cell_type": "code",
   "execution_count": 35,
   "metadata": {
    "collapsed": true,
    "jupyter": {
     "outputs_hidden": true
    },
    "tags": []
   },
   "outputs": [
    {
     "data": {
      "text/plain": [
       "0    24366\n",
       "1     5632\n",
       "Name: Has_AC, dtype: int64"
      ]
     },
     "execution_count": 35,
     "metadata": {},
     "output_type": "execute_result"
    }
   ],
   "source": [
    "df_boston_housing['Has_AC'].value_counts()"
   ]
  },
  {
   "cell_type": "code",
   "execution_count": null,
   "metadata": {},
   "outputs": [],
   "source": []
  },
  {
   "cell_type": "code",
   "execution_count": null,
   "metadata": {},
   "outputs": [],
   "source": [
    "# vermont dui data"
   ]
  },
  {
   "cell_type": "code",
   "execution_count": 36,
   "metadata": {
    "collapsed": true,
    "jupyter": {
     "outputs_hidden": true
    },
    "tags": []
   },
   "outputs": [
    {
     "data": {
      "text/html": [
       "<div>\n",
       "<style scoped>\n",
       "    .dataframe tbody tr th:only-of-type {\n",
       "        vertical-align: middle;\n",
       "    }\n",
       "\n",
       "    .dataframe tbody tr th {\n",
       "        vertical-align: top;\n",
       "    }\n",
       "\n",
       "    .dataframe thead th {\n",
       "        text-align: right;\n",
       "    }\n",
       "</style>\n",
       "<table border=\"1\" class=\"dataframe\">\n",
       "  <thead>\n",
       "    <tr style=\"text-align: right;\">\n",
       "      <th></th>\n",
       "      <th>incident_id</th>\n",
       "      <th>incident_date_time</th>\n",
       "      <th>agency</th>\n",
       "      <th>incident_type</th>\n",
       "      <th>town_of_incident</th>\n",
       "      <th>county_of_incident</th>\n",
       "      <th>county_of_arrest</th>\n",
       "      <th>arrest_statutes</th>\n",
       "      <th>arresting_agency</th>\n",
       "      <th>arrestee_gender</th>\n",
       "      <th>arrestee_age</th>\n",
       "      <th>count</th>\n",
       "    </tr>\n",
       "  </thead>\n",
       "  <tbody>\n",
       "    <tr>\n",
       "      <th>0</th>\n",
       "      <td>16C104877</td>\n",
       "      <td>2016-09-04 18:19:00</td>\n",
       "      <td>VSP: Rutland</td>\n",
       "      <td>Drive/Operate Under Influence</td>\n",
       "      <td>Mendon</td>\n",
       "      <td>Rutland</td>\n",
       "      <td>Rutland</td>\n",
       "      <td>23V1201A1#3</td>\n",
       "      <td>VSP: Rutland</td>\n",
       "      <td>Male</td>\n",
       "      <td>73</td>\n",
       "      <td>1</td>\n",
       "    </tr>\n",
       "    <tr>\n",
       "      <th>1</th>\n",
       "      <td>16B103451</td>\n",
       "      <td>2016-09-04 01:58:00</td>\n",
       "      <td>VSP: Saint Johnsbury</td>\n",
       "      <td>Drive/Operate Under Influence|DLS|Violate Cond...</td>\n",
       "      <td>Lyndon</td>\n",
       "      <td>Caledonia</td>\n",
       "      <td>Caledonia</td>\n",
       "      <td>23V1201</td>\n",
       "      <td>VSP: Saint Johnsbury</td>\n",
       "      <td>Male</td>\n",
       "      <td>22</td>\n",
       "      <td>1</td>\n",
       "    </tr>\n",
       "    <tr>\n",
       "      <th>2</th>\n",
       "      <td>16A303786</td>\n",
       "      <td>2016-09-03 19:51:00</td>\n",
       "      <td>VSP: Middlesex</td>\n",
       "      <td>Accident - Injury|Drive/Operate Under Influence</td>\n",
       "      <td>East Montpelier</td>\n",
       "      <td>Washington</td>\n",
       "      <td>Washington</td>\n",
       "      <td>23V1201</td>\n",
       "      <td>VSP: Middlesex</td>\n",
       "      <td>Male</td>\n",
       "      <td>57</td>\n",
       "      <td>1</td>\n",
       "    </tr>\n",
       "    <tr>\n",
       "      <th>3</th>\n",
       "      <td>16B103435</td>\n",
       "      <td>2016-09-03 00:33:00</td>\n",
       "      <td>VSP: Saint Johnsbury</td>\n",
       "      <td>Drive/Operate Under Influence</td>\n",
       "      <td>Lyndon</td>\n",
       "      <td>Caledonia</td>\n",
       "      <td>Caledonia</td>\n",
       "      <td>23V1201</td>\n",
       "      <td>VSP: Saint Johnsbury</td>\n",
       "      <td>Female</td>\n",
       "      <td>25</td>\n",
       "      <td>1</td>\n",
       "    </tr>\n",
       "    <tr>\n",
       "      <th>4</th>\n",
       "      <td>16B103419</td>\n",
       "      <td>2016-09-02 01:56:00</td>\n",
       "      <td>VSP: Saint Johnsbury</td>\n",
       "      <td>Drive/Operate Under Influence</td>\n",
       "      <td>Lyndon</td>\n",
       "      <td>Caledonia</td>\n",
       "      <td>Caledonia</td>\n",
       "      <td>23V1201A1#1/R</td>\n",
       "      <td>VSP: Saint Johnsbury</td>\n",
       "      <td>Male</td>\n",
       "      <td>22</td>\n",
       "      <td>1</td>\n",
       "    </tr>\n",
       "  </tbody>\n",
       "</table>\n",
       "</div>"
      ],
      "text/plain": [
       "  incident_id  incident_date_time                agency  \\\n",
       "0   16C104877 2016-09-04 18:19:00          VSP: Rutland   \n",
       "1   16B103451 2016-09-04 01:58:00  VSP: Saint Johnsbury   \n",
       "2   16A303786 2016-09-03 19:51:00        VSP: Middlesex   \n",
       "3   16B103435 2016-09-03 00:33:00  VSP: Saint Johnsbury   \n",
       "4   16B103419 2016-09-02 01:56:00  VSP: Saint Johnsbury   \n",
       "\n",
       "                                       incident_type town_of_incident  \\\n",
       "0                      Drive/Operate Under Influence           Mendon   \n",
       "1  Drive/Operate Under Influence|DLS|Violate Cond...           Lyndon   \n",
       "2    Accident - Injury|Drive/Operate Under Influence  East Montpelier   \n",
       "3                      Drive/Operate Under Influence           Lyndon   \n",
       "4                      Drive/Operate Under Influence           Lyndon   \n",
       "\n",
       "  county_of_incident county_of_arrest arrest_statutes      arresting_agency  \\\n",
       "0            Rutland          Rutland     23V1201A1#3          VSP: Rutland   \n",
       "1          Caledonia        Caledonia         23V1201  VSP: Saint Johnsbury   \n",
       "2         Washington       Washington         23V1201        VSP: Middlesex   \n",
       "3          Caledonia        Caledonia         23V1201  VSP: Saint Johnsbury   \n",
       "4          Caledonia        Caledonia   23V1201A1#1/R  VSP: Saint Johnsbury   \n",
       "\n",
       "  arrestee_gender  arrestee_age  count  \n",
       "0            Male            73      1  \n",
       "1            Male            22      1  \n",
       "2            Male            57      1  \n",
       "3          Female            25      1  \n",
       "4            Male            22      1  "
      ]
     },
     "execution_count": 36,
     "metadata": {},
     "output_type": "execute_result"
    }
   ],
   "source": [
    "df_dui.head(5)"
   ]
  },
  {
   "cell_type": "code",
   "execution_count": 38,
   "metadata": {
    "collapsed": true,
    "jupyter": {
     "outputs_hidden": true
    },
    "tags": []
   },
   "outputs": [
    {
     "data": {
      "text/plain": [
       "Male      725\n",
       "Female    275\n",
       "Name: arrestee_gender, dtype: int64"
      ]
     },
     "execution_count": 38,
     "metadata": {},
     "output_type": "execute_result"
    }
   ],
   "source": [
    "df_dui['arrestee_gender'].value_counts()"
   ]
  },
  {
   "cell_type": "code",
   "execution_count": null,
   "metadata": {},
   "outputs": [],
   "source": []
  },
  {
   "cell_type": "code",
   "execution_count": null,
   "metadata": {},
   "outputs": [],
   "source": [
    "# vermont traffic fatalaties"
   ]
  },
  {
   "cell_type": "code",
   "execution_count": 39,
   "metadata": {},
   "outputs": [
    {
     "data": {
      "text/html": [
       "<div>\n",
       "<style scoped>\n",
       "    .dataframe tbody tr th:only-of-type {\n",
       "        vertical-align: middle;\n",
       "    }\n",
       "\n",
       "    .dataframe tbody tr th {\n",
       "        vertical-align: top;\n",
       "    }\n",
       "\n",
       "    .dataframe thead th {\n",
       "        text-align: right;\n",
       "    }\n",
       "</style>\n",
       "<table border=\"1\" class=\"dataframe\">\n",
       "  <thead>\n",
       "    <tr style=\"text-align: right;\">\n",
       "      <th></th>\n",
       "      <th>incident_no</th>\n",
       "      <th>agency</th>\n",
       "      <th>crash_date</th>\n",
       "      <th>crash_city</th>\n",
       "      <th>crash_day</th>\n",
       "      <th>year</th>\n",
       "      <th>conditions</th>\n",
       "      <th>crash_circumstances</th>\n",
       "      <th>role</th>\n",
       "      <th>crash_injury</th>\n",
       "      <th>seatbelt</th>\n",
       "      <th>gender</th>\n",
       "      <th>age</th>\n",
       "      <th>count</th>\n",
       "      <th>crash_time</th>\n",
       "      <th>crash_location</th>\n",
       "      <th>latitude</th>\n",
       "      <th>:@computed_region_5r79_s8s6</th>\n",
       "    </tr>\n",
       "  </thead>\n",
       "  <tbody>\n",
       "    <tr>\n",
       "      <th>0</th>\n",
       "      <td>193903</td>\n",
       "      <td>VSP - B2 Royalton</td>\n",
       "      <td>2017-03-19T00:00:00.000</td>\n",
       "      <td>Reading</td>\n",
       "      <td>2017</td>\n",
       "      <td>Sunday</td>\n",
       "      <td>Good</td>\n",
       "      <td>Driving too fast for conditions</td>\n",
       "      <td>Driver</td>\n",
       "      <td>Fatality (K)</td>\n",
       "      <td>No</td>\n",
       "      <td>Male</td>\n",
       "      <td>20.7</td>\n",
       "      <td>1</td>\n",
       "      <td>NaT</td>\n",
       "      <td>NaN</td>\n",
       "      <td>NaN</td>\n",
       "      <td>NaN</td>\n",
       "    </tr>\n",
       "    <tr>\n",
       "      <th>1</th>\n",
       "      <td>193577</td>\n",
       "      <td>VSP - B4 Rutland</td>\n",
       "      <td>2017-03-18T00:00:00.000</td>\n",
       "      <td>Killington</td>\n",
       "      <td>2017</td>\n",
       "      <td>Saturday</td>\n",
       "      <td>Good</td>\n",
       "      <td>Exceeded authorized speed limit</td>\n",
       "      <td>Passenger</td>\n",
       "      <td>Fatality (K)</td>\n",
       "      <td>No</td>\n",
       "      <td>Male</td>\n",
       "      <td>30.0</td>\n",
       "      <td>1</td>\n",
       "      <td>2022-04-23 01:00:00</td>\n",
       "      <td>NaN</td>\n",
       "      <td>NaN</td>\n",
       "      <td>NaN</td>\n",
       "    </tr>\n",
       "    <tr>\n",
       "      <th>2</th>\n",
       "      <td>194346</td>\n",
       "      <td>VSP - A5 Derby</td>\n",
       "      <td>2017-02-25T00:00:00.000</td>\n",
       "      <td>Barton</td>\n",
       "      <td>2017</td>\n",
       "      <td>Saturday</td>\n",
       "      <td>Good</td>\n",
       "      <td>Failure to keep in proper lane</td>\n",
       "      <td>Driver</td>\n",
       "      <td>Fatality (K)</td>\n",
       "      <td>Yes</td>\n",
       "      <td>Male</td>\n",
       "      <td>73.4</td>\n",
       "      <td>1</td>\n",
       "      <td>2022-04-23 15:00:00</td>\n",
       "      <td>MinCollector</td>\n",
       "      <td>{'latitude': '44.81912', 'longitude': '-72.184...</td>\n",
       "      <td>3215.0</td>\n",
       "    </tr>\n",
       "    <tr>\n",
       "      <th>3</th>\n",
       "      <td>192599</td>\n",
       "      <td>VSP - B2 Royalton</td>\n",
       "      <td>2017-02-16T00:00:00.000</td>\n",
       "      <td>Hartland</td>\n",
       "      <td>2017</td>\n",
       "      <td>Thursday</td>\n",
       "      <td>Slick</td>\n",
       "      <td>Driving too fast for conditions</td>\n",
       "      <td>Driver</td>\n",
       "      <td>Fatality (K)</td>\n",
       "      <td>Yes</td>\n",
       "      <td>Male</td>\n",
       "      <td>50.0</td>\n",
       "      <td>1</td>\n",
       "      <td>2022-04-23 06:00:00</td>\n",
       "      <td>I-91</td>\n",
       "      <td>{'latitude': '43.59563', 'longitude': '-72.347...</td>\n",
       "      <td>3218.0</td>\n",
       "    </tr>\n",
       "    <tr>\n",
       "      <th>4</th>\n",
       "      <td>192095</td>\n",
       "      <td>VSP - A2 St. Albans</td>\n",
       "      <td>2017-02-04T00:00:00.000</td>\n",
       "      <td>Georgia</td>\n",
       "      <td>2017</td>\n",
       "      <td>Saturday</td>\n",
       "      <td>Good</td>\n",
       "      <td>Operating vehicle in erratic- reckless- carele...</td>\n",
       "      <td>Driver</td>\n",
       "      <td>Fatality (K)</td>\n",
       "      <td>No</td>\n",
       "      <td>Male</td>\n",
       "      <td>35.2</td>\n",
       "      <td>1</td>\n",
       "      <td>2022-04-23 16:00:00</td>\n",
       "      <td>I-89</td>\n",
       "      <td>NaN</td>\n",
       "      <td>NaN</td>\n",
       "    </tr>\n",
       "  </tbody>\n",
       "</table>\n",
       "</div>"
      ],
      "text/plain": [
       "   incident_no               agency               crash_date  crash_city  \\\n",
       "0       193903    VSP - B2 Royalton  2017-03-19T00:00:00.000     Reading   \n",
       "1       193577     VSP - B4 Rutland  2017-03-18T00:00:00.000  Killington   \n",
       "2       194346       VSP - A5 Derby  2017-02-25T00:00:00.000      Barton   \n",
       "3       192599    VSP - B2 Royalton  2017-02-16T00:00:00.000    Hartland   \n",
       "4       192095  VSP - A2 St. Albans  2017-02-04T00:00:00.000     Georgia   \n",
       "\n",
       "   crash_day      year conditions  \\\n",
       "0       2017    Sunday       Good   \n",
       "1       2017  Saturday       Good   \n",
       "2       2017  Saturday       Good   \n",
       "3       2017  Thursday      Slick   \n",
       "4       2017  Saturday       Good   \n",
       "\n",
       "                                 crash_circumstances       role  crash_injury  \\\n",
       "0                    Driving too fast for conditions     Driver  Fatality (K)   \n",
       "1                    Exceeded authorized speed limit  Passenger  Fatality (K)   \n",
       "2                     Failure to keep in proper lane     Driver  Fatality (K)   \n",
       "3                    Driving too fast for conditions     Driver  Fatality (K)   \n",
       "4  Operating vehicle in erratic- reckless- carele...     Driver  Fatality (K)   \n",
       "\n",
       "  seatbelt gender   age  count          crash_time crash_location  \\\n",
       "0       No   Male  20.7      1                 NaT            NaN   \n",
       "1       No   Male  30.0      1 2022-04-23 01:00:00            NaN   \n",
       "2      Yes   Male  73.4      1 2022-04-23 15:00:00   MinCollector   \n",
       "3      Yes   Male  50.0      1 2022-04-23 06:00:00           I-91   \n",
       "4       No   Male  35.2      1 2022-04-23 16:00:00           I-89   \n",
       "\n",
       "                                            latitude  \\\n",
       "0                                                NaN   \n",
       "1                                                NaN   \n",
       "2  {'latitude': '44.81912', 'longitude': '-72.184...   \n",
       "3  {'latitude': '43.59563', 'longitude': '-72.347...   \n",
       "4                                                NaN   \n",
       "\n",
       "   :@computed_region_5r79_s8s6  \n",
       "0                          NaN  \n",
       "1                          NaN  \n",
       "2                       3215.0  \n",
       "3                       3218.0  \n",
       "4                          NaN  "
      ]
     },
     "execution_count": 39,
     "metadata": {},
     "output_type": "execute_result"
    }
   ],
   "source": [
    "df_traffic_fatalities.head(5)"
   ]
  },
  {
   "cell_type": "code",
   "execution_count": 40,
   "metadata": {},
   "outputs": [
    {
     "data": {
      "text/plain": [
       "Driver        208\n",
       "Passenger      60\n",
       "Pedestrian     15\n",
       "Bicycle         4\n",
       "Name: role, dtype: int64"
      ]
     },
     "execution_count": 40,
     "metadata": {},
     "output_type": "execute_result"
    }
   ],
   "source": [
    "df_traffic_fatalities['role'].value_counts()"
   ]
  },
  {
   "cell_type": "code",
   "execution_count": null,
   "metadata": {},
   "outputs": [],
   "source": []
  },
  {
   "cell_type": "code",
   "execution_count": null,
   "metadata": {},
   "outputs": [],
   "source": []
  },
  {
   "cell_type": "code",
   "execution_count": null,
   "metadata": {},
   "outputs": [],
   "source": []
  },
  {
   "cell_type": "code",
   "execution_count": null,
   "metadata": {},
   "outputs": [],
   "source": []
  },
  {
   "cell_type": "code",
   "execution_count": null,
   "metadata": {},
   "outputs": [],
   "source": []
  },
  {
   "cell_type": "code",
   "execution_count": null,
   "metadata": {},
   "outputs": [],
   "source": []
  },
  {
   "cell_type": "code",
   "execution_count": null,
   "metadata": {},
   "outputs": [],
   "source": []
  },
  {
   "cell_type": "code",
   "execution_count": null,
   "metadata": {},
   "outputs": [],
   "source": []
  },
  {
   "cell_type": "code",
   "execution_count": null,
   "metadata": {},
   "outputs": [],
   "source": []
  },
  {
   "cell_type": "code",
   "execution_count": 14,
   "metadata": {},
   "outputs": [
    {
     "data": {
      "text/plain": [
       "(1000, 12)"
      ]
     },
     "execution_count": 14,
     "metadata": {},
     "output_type": "execute_result"
    }
   ],
   "source": [
    "# how many rows\n",
    "df3.shape"
   ]
  },
  {
   "cell_type": "code",
   "execution_count": null,
   "metadata": {},
   "outputs": [],
   "source": []
  },
  {
   "cell_type": "code",
   "execution_count": 5,
   "metadata": {},
   "outputs": [
    {
     "data": {
      "text/plain": [
       "['incident_no',\n",
       " 'agency',\n",
       " 'crash_date',\n",
       " 'crash_city',\n",
       " 'crash_day',\n",
       " 'year',\n",
       " 'conditions',\n",
       " 'crash_circumstances',\n",
       " 'role',\n",
       " 'crash_injury',\n",
       " 'seatbelt',\n",
       " 'gender',\n",
       " 'age',\n",
       " 'count',\n",
       " 'crash_time',\n",
       " 'crash_location',\n",
       " 'latitude',\n",
       " ':@computed_region_5r79_s8s6']"
      ]
     },
     "execution_count": 5,
     "metadata": {},
     "output_type": "execute_result"
    }
   ],
   "source": [
    "# list out the columns\n",
    "list(df)"
   ]
  },
  {
   "cell_type": "code",
   "execution_count": null,
   "metadata": {},
   "outputs": [],
   "source": []
  },
  {
   "cell_type": "code",
   "execution_count": null,
   "metadata": {},
   "outputs": [],
   "source": []
  },
  {
   "cell_type": "code",
   "execution_count": 15,
   "metadata": {},
   "outputs": [
    {
     "data": {
      "text/html": [
       "<div>\n",
       "<style scoped>\n",
       "    .dataframe tbody tr th:only-of-type {\n",
       "        vertical-align: middle;\n",
       "    }\n",
       "\n",
       "    .dataframe tbody tr th {\n",
       "        vertical-align: top;\n",
       "    }\n",
       "\n",
       "    .dataframe thead th {\n",
       "        text-align: right;\n",
       "    }\n",
       "</style>\n",
       "<table border=\"1\" class=\"dataframe\">\n",
       "  <thead>\n",
       "    <tr style=\"text-align: right;\">\n",
       "      <th></th>\n",
       "      <th>incident_id</th>\n",
       "      <th>incident_date_time</th>\n",
       "      <th>agency</th>\n",
       "      <th>incident_type</th>\n",
       "      <th>town_of_incident</th>\n",
       "      <th>county_of_incident</th>\n",
       "      <th>county_of_arrest</th>\n",
       "      <th>arrest_statutes</th>\n",
       "      <th>arresting_agency</th>\n",
       "      <th>arrestee_gender</th>\n",
       "      <th>arrestee_age</th>\n",
       "      <th>count</th>\n",
       "    </tr>\n",
       "  </thead>\n",
       "  <tbody>\n",
       "    <tr>\n",
       "      <th>0</th>\n",
       "      <td>16A303786</td>\n",
       "      <td>2016-09-03 19:51:00</td>\n",
       "      <td>VSP: Middlesex</td>\n",
       "      <td>Accident - Injury|Drive/Operate Under Influence</td>\n",
       "      <td>East Montpelier</td>\n",
       "      <td>Washington</td>\n",
       "      <td>Washington</td>\n",
       "      <td>23V1201</td>\n",
       "      <td>VSP: Middlesex</td>\n",
       "      <td>Male</td>\n",
       "      <td>57</td>\n",
       "      <td>1</td>\n",
       "    </tr>\n",
       "    <tr>\n",
       "      <th>1</th>\n",
       "      <td>16A104400</td>\n",
       "      <td>2016-08-26 18:27:00</td>\n",
       "      <td>VSP: Williston</td>\n",
       "      <td>Accident - Property|Drive/Operate Under Influence</td>\n",
       "      <td>Unknown</td>\n",
       "      <td>Unknown</td>\n",
       "      <td>Unknown</td>\n",
       "      <td>23V1201</td>\n",
       "      <td>VSP: Williston</td>\n",
       "      <td>Male</td>\n",
       "      <td>34</td>\n",
       "      <td>1</td>\n",
       "    </tr>\n",
       "    <tr>\n",
       "      <th>2</th>\n",
       "      <td>16A303608</td>\n",
       "      <td>2016-08-23 23:26:00</td>\n",
       "      <td>VSP: Middlesex</td>\n",
       "      <td>Drive/Operate Under Influence|Accident - Property</td>\n",
       "      <td>Middlesex</td>\n",
       "      <td>Washington</td>\n",
       "      <td>Washington</td>\n",
       "      <td>23V1201</td>\n",
       "      <td>VSP: Middlesex</td>\n",
       "      <td>Female</td>\n",
       "      <td>27</td>\n",
       "      <td>1</td>\n",
       "    </tr>\n",
       "    <tr>\n",
       "      <th>3</th>\n",
       "      <td>16C104611</td>\n",
       "      <td>2016-08-21 23:46:00</td>\n",
       "      <td>VSP: Rutland</td>\n",
       "      <td>Accident - Property|Drive/Operate Under Influe...</td>\n",
       "      <td>Rutland Town</td>\n",
       "      <td>Rutland</td>\n",
       "      <td>Rutland</td>\n",
       "      <td>23V1201</td>\n",
       "      <td>VSP: Rutland</td>\n",
       "      <td>Male</td>\n",
       "      <td>56</td>\n",
       "      <td>1</td>\n",
       "    </tr>\n",
       "    <tr>\n",
       "      <th>4</th>\n",
       "      <td>16C104560</td>\n",
       "      <td>2016-08-19 02:26:00</td>\n",
       "      <td>VSP: Rutland</td>\n",
       "      <td>Accident - Property|Drive/Operate Under Influence</td>\n",
       "      <td>Clarendon</td>\n",
       "      <td>Rutland</td>\n",
       "      <td>Rutland</td>\n",
       "      <td>23V1201</td>\n",
       "      <td>VSP: Rutland</td>\n",
       "      <td>Female</td>\n",
       "      <td>22</td>\n",
       "      <td>1</td>\n",
       "    </tr>\n",
       "    <tr>\n",
       "      <th>5</th>\n",
       "      <td>16D303185</td>\n",
       "      <td>2016-08-15 06:50:00</td>\n",
       "      <td>VSP: Royalton</td>\n",
       "      <td>Drive/Operate Under Influence|DLS|Violate Cond...</td>\n",
       "      <td>Strafford</td>\n",
       "      <td>Orange</td>\n",
       "      <td>Orange</td>\n",
       "      <td>23V1201A1#3</td>\n",
       "      <td>VSP: Royalton</td>\n",
       "      <td>Male</td>\n",
       "      <td>39</td>\n",
       "      <td>1</td>\n",
       "    </tr>\n",
       "    <tr>\n",
       "      <th>6</th>\n",
       "      <td>16D303185</td>\n",
       "      <td>2016-08-15 06:50:00</td>\n",
       "      <td>VSP: Royalton</td>\n",
       "      <td>Drive/Operate Under Influence|DLS|Violate Cond...</td>\n",
       "      <td>Strafford</td>\n",
       "      <td>Orange</td>\n",
       "      <td>Orange</td>\n",
       "      <td>23V1201A1#3</td>\n",
       "      <td>VSP: Royalton</td>\n",
       "      <td>Male</td>\n",
       "      <td>39</td>\n",
       "      <td>1</td>\n",
       "    </tr>\n",
       "    <tr>\n",
       "      <th>7</th>\n",
       "      <td>16B103026</td>\n",
       "      <td>2016-08-14 19:20:00</td>\n",
       "      <td>VSP: Saint Johnsbury</td>\n",
       "      <td>Accident - Property|Accident - Property|Drive/...</td>\n",
       "      <td>Waterford</td>\n",
       "      <td>Caledonia</td>\n",
       "      <td>Caledonia</td>\n",
       "      <td>23V1201</td>\n",
       "      <td>VSP: Saint Johnsbury</td>\n",
       "      <td>Male</td>\n",
       "      <td>56</td>\n",
       "      <td>1</td>\n",
       "    </tr>\n",
       "    <tr>\n",
       "      <th>8</th>\n",
       "      <td>16C202664</td>\n",
       "      <td>2016-08-14 14:54:00</td>\n",
       "      <td>VSP: New Haven</td>\n",
       "      <td>Drive/Operate Under Influence|Accident - Property</td>\n",
       "      <td>Leicester</td>\n",
       "      <td>Addison</td>\n",
       "      <td>Addison</td>\n",
       "      <td>23V1201</td>\n",
       "      <td>VSP: New Haven</td>\n",
       "      <td>Male</td>\n",
       "      <td>28</td>\n",
       "      <td>1</td>\n",
       "    </tr>\n",
       "    <tr>\n",
       "      <th>9</th>\n",
       "      <td>16A303435</td>\n",
       "      <td>2016-08-14 01:30:00</td>\n",
       "      <td>VSP: Middlesex</td>\n",
       "      <td>Drive/Operate Under Influence|Accident - Property</td>\n",
       "      <td>Fayston</td>\n",
       "      <td>Washington</td>\n",
       "      <td>Washington</td>\n",
       "      <td>23V1201</td>\n",
       "      <td>VSP: Middlesex</td>\n",
       "      <td>Male</td>\n",
       "      <td>27</td>\n",
       "      <td>1</td>\n",
       "    </tr>\n",
       "  </tbody>\n",
       "</table>\n",
       "</div>"
      ],
      "text/plain": [
       "  incident_id  incident_date_time                agency  \\\n",
       "0   16A303786 2016-09-03 19:51:00        VSP: Middlesex   \n",
       "1   16A104400 2016-08-26 18:27:00        VSP: Williston   \n",
       "2   16A303608 2016-08-23 23:26:00        VSP: Middlesex   \n",
       "3   16C104611 2016-08-21 23:46:00          VSP: Rutland   \n",
       "4   16C104560 2016-08-19 02:26:00          VSP: Rutland   \n",
       "5   16D303185 2016-08-15 06:50:00         VSP: Royalton   \n",
       "6   16D303185 2016-08-15 06:50:00         VSP: Royalton   \n",
       "7   16B103026 2016-08-14 19:20:00  VSP: Saint Johnsbury   \n",
       "8   16C202664 2016-08-14 14:54:00        VSP: New Haven   \n",
       "9   16A303435 2016-08-14 01:30:00        VSP: Middlesex   \n",
       "\n",
       "                                       incident_type town_of_incident  \\\n",
       "0    Accident - Injury|Drive/Operate Under Influence  East Montpelier   \n",
       "1  Accident - Property|Drive/Operate Under Influence          Unknown   \n",
       "2  Drive/Operate Under Influence|Accident - Property        Middlesex   \n",
       "3  Accident - Property|Drive/Operate Under Influe...     Rutland Town   \n",
       "4  Accident - Property|Drive/Operate Under Influence        Clarendon   \n",
       "5  Drive/Operate Under Influence|DLS|Violate Cond...        Strafford   \n",
       "6  Drive/Operate Under Influence|DLS|Violate Cond...        Strafford   \n",
       "7  Accident - Property|Accident - Property|Drive/...        Waterford   \n",
       "8  Drive/Operate Under Influence|Accident - Property        Leicester   \n",
       "9  Drive/Operate Under Influence|Accident - Property          Fayston   \n",
       "\n",
       "  county_of_incident county_of_arrest arrest_statutes      arresting_agency  \\\n",
       "0         Washington       Washington         23V1201        VSP: Middlesex   \n",
       "1            Unknown          Unknown         23V1201        VSP: Williston   \n",
       "2         Washington       Washington         23V1201        VSP: Middlesex   \n",
       "3            Rutland          Rutland         23V1201          VSP: Rutland   \n",
       "4            Rutland          Rutland         23V1201          VSP: Rutland   \n",
       "5             Orange           Orange     23V1201A1#3         VSP: Royalton   \n",
       "6             Orange           Orange     23V1201A1#3         VSP: Royalton   \n",
       "7          Caledonia        Caledonia         23V1201  VSP: Saint Johnsbury   \n",
       "8            Addison          Addison         23V1201        VSP: New Haven   \n",
       "9         Washington       Washington         23V1201        VSP: Middlesex   \n",
       "\n",
       "  arrestee_gender  arrestee_age  count  \n",
       "0            Male            57      1  \n",
       "1            Male            34      1  \n",
       "2          Female            27      1  \n",
       "3            Male            56      1  \n",
       "4          Female            22      1  \n",
       "5            Male            39      1  \n",
       "6            Male            39      1  \n",
       "7            Male            56      1  \n",
       "8            Male            28      1  \n",
       "9            Male            27      1  "
      ]
     },
     "execution_count": 15,
     "metadata": {},
     "output_type": "execute_result"
    }
   ],
   "source": [
    "# show first few rows\n",
    "df3.head(10)"
   ]
  },
  {
   "cell_type": "code",
   "execution_count": null,
   "metadata": {},
   "outputs": [],
   "source": []
  },
  {
   "cell_type": "code",
   "execution_count": null,
   "metadata": {},
   "outputs": [],
   "source": []
  },
  {
   "cell_type": "code",
   "execution_count": 7,
   "metadata": {},
   "outputs": [
    {
     "data": {
      "text/plain": [
       "Georgia             8\n",
       "St. Johnsbury       8\n",
       "Killington          7\n",
       "Marshfield          6\n",
       "Weathersfield       5\n",
       "                   ..\n",
       "Fletcher            1\n",
       "Woodbury            1\n",
       "South Burlington    1\n",
       "Brookfield          1\n",
       "Newbury             1\n",
       "Name: crash_city, Length: 139, dtype: int64"
      ]
     },
     "execution_count": 7,
     "metadata": {},
     "output_type": "execute_result"
    }
   ],
   "source": [
    "# How many instances \n",
    "df['crash_city'].value_counts()"
   ]
  },
  {
   "cell_type": "code",
   "execution_count": 12,
   "metadata": {},
   "outputs": [
    {
     "data": {
      "text/plain": [
       "Caledonia     135\n",
       "Rutland       112\n",
       "Windham       109\n",
       "Orange        105\n",
       "Addison        84\n",
       "Bennington     83\n",
       "Windsor        81\n",
       "Franklin       73\n",
       "Washington     63\n",
       "Orleans        53\n",
       "Chittenden     42\n",
       "Lamoille       21\n",
       "Unknown        20\n",
       "Essex          14\n",
       "Grand Isle      5\n",
       "Name: county_of_incident, dtype: int64"
      ]
     },
     "execution_count": 12,
     "metadata": {},
     "output_type": "execute_result"
    }
   ],
   "source": [
    "# How many instances \n",
    "df2['county_of_incident'].value_counts()"
   ]
  },
  {
   "cell_type": "code",
   "execution_count": 17,
   "metadata": {},
   "outputs": [
    {
     "data": {
      "text/plain": [
       "Windham       122\n",
       "Orange        112\n",
       "Rutland       104\n",
       "Caledonia     101\n",
       "Washington     90\n",
       "Addison        82\n",
       "Windsor        78\n",
       "Bennington     68\n",
       "Orleans        66\n",
       "Franklin       60\n",
       "Chittenden     49\n",
       "Unknown        30\n",
       "Lamoille       22\n",
       "Essex          12\n",
       "Grand Isle      4\n",
       "Name: county_of_incident, dtype: int64"
      ]
     },
     "execution_count": 17,
     "metadata": {},
     "output_type": "execute_result"
    }
   ],
   "source": [
    "df3['county_of_incident'].value_counts()"
   ]
  },
  {
   "cell_type": "code",
   "execution_count": 16,
   "metadata": {},
   "outputs": [
    {
     "data": {
      "text/plain": [
       "False.    2562\n",
       "True.      436\n",
       "Name: Churn?, dtype: int64"
      ]
     },
     "execution_count": 16,
     "metadata": {},
     "output_type": "execute_result"
    }
   ],
   "source": [
    "# How many instances of Churn\n",
    "df['Churn?'].value_counts()"
   ]
  },
  {
   "cell_type": "code",
   "execution_count": null,
   "metadata": {},
   "outputs": [],
   "source": []
  },
  {
   "cell_type": "code",
   "execution_count": 19,
   "metadata": {},
   "outputs": [],
   "source": [
    "# drop columns not needed for training\n",
    "df=df.drop(['Area Code','Phone'],axis=1)"
   ]
  },
  {
   "cell_type": "code",
   "execution_count": null,
   "metadata": {},
   "outputs": [],
   "source": []
  },
  {
   "cell_type": "code",
   "execution_count": 35,
   "metadata": {},
   "outputs": [],
   "source": [
    "# create a random train test ( 20 percent ) split\n",
    "msk = np.random.rand(len(df)) < 0.20\n",
    "train = df[~msk]\n",
    "test = df[msk]"
   ]
  },
  {
   "cell_type": "code",
   "execution_count": 36,
   "metadata": {},
   "outputs": [
    {
     "data": {
      "text/plain": [
       "(2664, 21)"
      ]
     },
     "execution_count": 36,
     "metadata": {},
     "output_type": "execute_result"
    }
   ],
   "source": [
    "train.shape"
   ]
  },
  {
   "cell_type": "code",
   "execution_count": 37,
   "metadata": {},
   "outputs": [
    {
     "data": {
      "text/plain": [
       "(669, 21)"
      ]
     },
     "execution_count": 37,
     "metadata": {},
     "output_type": "execute_result"
    }
   ],
   "source": [
    "test.shape"
   ]
  },
  {
   "cell_type": "code",
   "execution_count": null,
   "metadata": {},
   "outputs": [],
   "source": []
  },
  {
   "cell_type": "code",
   "execution_count": null,
   "metadata": {},
   "outputs": [],
   "source": []
  },
  {
   "cell_type": "code",
   "execution_count": 12,
   "metadata": {},
   "outputs": [],
   "source": [
    "# merge datasets\n",
    "df_both = pd.concat([df,df2])"
   ]
  },
  {
   "cell_type": "code",
   "execution_count": 13,
   "metadata": {},
   "outputs": [
    {
     "data": {
      "text/plain": [
       "(101766, 50)"
      ]
     },
     "execution_count": 13,
     "metadata": {},
     "output_type": "execute_result"
    }
   ],
   "source": [
    "# num of rows\n",
    "df_both.shape"
   ]
  },
  {
   "cell_type": "code",
   "execution_count": 14,
   "metadata": {},
   "outputs": [],
   "source": [
    "# write dataframe to csv\n",
    "df_both.to_csv('./sets/patient_re_admit.csv',index=False,sep=',')"
   ]
  },
  {
   "cell_type": "code",
   "execution_count": 15,
   "metadata": {},
   "outputs": [],
   "source": [
    "df = df_both"
   ]
  }
 ],
 "metadata": {
  "kernelspec": {
   "display_name": "Python 3 (ipykernel)",
   "language": "python",
   "name": "python3"
  },
  "language_info": {
   "codemirror_mode": {
    "name": "ipython",
    "version": 3
   },
   "file_extension": ".py",
   "mimetype": "text/x-python",
   "name": "python",
   "nbconvert_exporter": "python",
   "pygments_lexer": "ipython3",
   "version": "3.8.10"
  }
 },
 "nbformat": 4,
 "nbformat_minor": 4
}
