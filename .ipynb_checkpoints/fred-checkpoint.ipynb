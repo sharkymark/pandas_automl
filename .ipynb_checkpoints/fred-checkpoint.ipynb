{
 "cells": [
  {
   "cell_type": "code",
   "execution_count": 1,
   "id": "3382e3bf-cc53-4db1-a320-5c8ad6ef2962",
   "metadata": {},
   "outputs": [],
   "source": [
    "import requests\n",
    "import json\n",
    "import pandas as pd\n",
    "from datetime import datetime, timedelta\n",
    "import os"
   ]
  },
  {
   "cell_type": "code",
   "execution_count": 2,
   "id": "0d5ff1fd-24ad-487d-baa2-628676884ed5",
   "metadata": {},
   "outputs": [],
   "source": [
    "def fetch_series_data(series_id, start_year, end_year, api_key):\n",
    "\n",
    "    url = (f\"https://api.stlouisfed.org/fred/series/observations\"\n",
    "           f\"?series_id={series_id}\"\n",
    "           f\"&observation_start={start_year}\"\n",
    "           f\"&observation_end={end_year}\"\n",
    "           f\"&api_key={api_key}\"\n",
    "           f\"&limit=13&file_type=json&sort_order=desc\")\n",
    "\n",
    "    response = requests.get(url)\n",
    "    if response.status_code != 200:\n",
    "        print(f\"Failed to retrieve data: {response.status_code}\")\n",
    "        print(response.text)\n",
    "        return\n",
    "\n",
    "    data = response.json()\n",
    "    \n",
    "    # Process and print the results with a friendly header based on Series ID\n",
    "    print()\n",
    "    series_labels = {\n",
    "        \"FEDFUNDS\": \"Federal Funds Rate: \",\n",
    "        \"ICSA\": \"Initial Claims for Unemployment Insurance: \",\n",
    "        \"RSAFS\": \"Retail Sales: \",\n",
    "        \"UNRATE\": \"Unemployment Rate: \",\n",
    "        \"GDP\": \"Gross Domestic Product: \",\n",
    "        \"DGORDER\": \"Durable Goods Orders: \",\n",
    "        \"INDPRO\": \"Industrial Production: \",\n",
    "        \"PCE\": \"Personal Consumption Expenditures: \"\n",
    "    }\n",
    "    \n",
    "    label = series_labels.get(series_id, \"Series ID: \")\n",
    "    print(label)\n",
    "\n",
    "    observations = data.get('observations', [])\n",
    "    if observations:\n",
    "        latest = observations[0]  # The first element is the latest due to descending sort\n",
    "        print(f\"{latest['value']} on {latest['date']}\")\n",
    "\n",
    "        # Ensure there are at least 2 observations to calculate month-over-month change\n",
    "        if len(observations) > 1:\n",
    "            previous = observations[1]\n",
    "            latest_value = float(latest['value'])\n",
    "            previous_value = float(previous['value'])\n",
    "            change = latest_value - previous_value\n",
    "            percentage_change = (change / previous_value) * 100\n",
    "            print(f\"Change from previous month: {change:.2f} ({percentage_change:.2f}%)\")\n",
    "        else:\n",
    "            print(\"Not enough data to calculate month-over-month change\")\n",
    "\n",
    "        # Calculate 12-month change if there's enough data\n",
    "        if len(observations) >= 13:\n",
    "            year_ago = observations[12]  # 12th element is data from 12 months ago\n",
    "            latest_value = float(latest['value'])\n",
    "            year_ago_value = float(year_ago['value'])\n",
    "            year_change = latest_value - year_ago_value\n",
    "            year_percentage_change = (year_change / year_ago_value) * 100\n",
    "            print(f\"Change from 12 months ago: {year_change:.2f} ({year_percentage_change:.2f}%)\")\n",
    "        else:\n",
    "            print(\"Not enough data to calculate 12-month change\")\n",
    "    else:\n",
    "        print(\"No data available in the specified date range\")\n",
    "\n",
    "    print(f\"FRED Series ID: {series_id}\")\n",
    "    print()\n"
   ]
  },
  {
   "cell_type": "code",
   "execution_count": 6,
   "id": "98948e86-b454-4ca1-99bc-54d6dc78a29b",
   "metadata": {},
   "outputs": [],
   "source": [
    "\n",
    "def get_fred():\n",
    "\n",
    "    # Read the API key from the environment variable\n",
    "    api_key = os.getenv('API_KEY')\n",
    "    if api_key:\n",
    "        print(\"API Key found.\")\n",
    "    else:\n",
    "        print(\"API Key not set.\")\n",
    "    \n",
    "    series_ids = [\"FEDFUNDS\", \"ICSA\", \"RSAFS\", \"UNRATE\", \"GDP\", \"DGORDER\", \"INDPRO\", \"PCE\"]\n",
    "    now = datetime.now()\n",
    "    current_month = now.strftime(\"%Y-%m-%d\")\n",
    "    one_year_ago = (now - timedelta(days=365)).strftime(\"%Y-%m-%d\")\n",
    "\n",
    "    for series_id in series_ids:\n",
    "        fetch_series_data(series_id, one_year_ago, current_month, api_key)\n",
    "\n"
   ]
  },
  {
   "cell_type": "code",
   "execution_count": 7,
   "id": "2fcb650f-5e16-4b4b-a9fb-03c1607b6fa3",
   "metadata": {},
   "outputs": [
    {
     "data": {
      "text/plain": [
       "{'HOSTNAME': '3e32ff7b4ccf',\n",
       " 'PYTHON_PIP_VERSION': '23.0.1',\n",
       " 'SHLVL': '1',\n",
       " 'HOME': '/root',\n",
       " 'GPG_KEY': '<hidden>',\n",
       " 'REMOTE_CONTAINERS': 'true',\n",
       " 'REMOTE_CONTAINERS_IPC': '/tmp/vscode-remote-containers-ipc-0a53bd81-ba77-4c1c-9cb2-29869e141d61.sock',\n",
       " '_': '/usr/bin/cat',\n",
       " 'PYTHON_GET_PIP_URL': 'https://github.com/pypa/get-pip/raw/dbf0c85f76fb6e1ab42aa672ffca6f0a675d9ee4/public/get-pip.py',\n",
       " 'TERM': 'xterm-color',\n",
       " 'PATH': '/usr/local/bin:/usr/local/sbin:/usr/local/bin:/usr/sbin:/usr/bin:/sbin:/bin',\n",
       " 'REMOTE_CONTAINERS_SOCKETS': '[\"/tmp/vscode-ssh-auth-0a53bd81-ba77-4c1c-9cb2-29869e141d61.sock\"]',\n",
       " 'LANG': 'C.UTF-8',\n",
       " 'SSH_AUTH_SOCK': '/tmp/vscode-ssh-auth-0a53bd81-ba77-4c1c-9cb2-29869e141d61.sock',\n",
       " 'PYTHON_VERSION': '3.9.19',\n",
       " 'PYTHON_SETUPTOOLS_VERSION': '58.1.0',\n",
       " 'PWD': '/workspaces/pandas_automl',\n",
       " 'PYTHON_GET_PIP_SHA256': 'dfe9fd5c28dc98b5ac17979a953ea550cec37ae1b47a5116007395bfacff2ab9',\n",
       " 'JPY_SESSION_NAME': '/workspaces/pandas_automl/fred.ipynb',\n",
       " 'JPY_PARENT_PID': '367',\n",
       " 'PYDEVD_USE_FRAME_EVAL': 'NO',\n",
       " 'CLICOLOR': '1',\n",
       " 'FORCE_COLOR': '1',\n",
       " 'CLICOLOR_FORCE': '1',\n",
       " 'PAGER': 'cat',\n",
       " 'GIT_PAGER': 'cat',\n",
       " 'MPLBACKEND': 'module://matplotlib_inline.backend_inline'}"
      ]
     },
     "execution_count": 7,
     "metadata": {},
     "output_type": "execute_result"
    }
   ],
   "source": [
    "env\n"
   ]
  },
  {
   "cell_type": "code",
   "execution_count": 4,
   "id": "59236545-5954-4e5d-845a-12843d3d63cc",
   "metadata": {},
   "outputs": [
    {
     "name": "stdout",
     "output_type": "stream",
     "text": [
      "API Key not set.\n",
      "Failed to retrieve data: 400\n",
      "{\"error_code\":400,\"error_message\":\"Bad Request.  The value for variable api_key is not a 32 character alpha-numeric lower-case string.  Read https:\\/\\/fred.stlouisfed.org\\/docs\\/api\\/api_key.html for more information.\"}\n",
      "Failed to retrieve data: 400\n",
      "{\"error_code\":400,\"error_message\":\"Bad Request.  The value for variable api_key is not a 32 character alpha-numeric lower-case string.  Read https:\\/\\/fred.stlouisfed.org\\/docs\\/api\\/api_key.html for more information.\"}\n",
      "Failed to retrieve data: 400\n",
      "{\"error_code\":400,\"error_message\":\"Bad Request.  The value for variable api_key is not a 32 character alpha-numeric lower-case string.  Read https:\\/\\/fred.stlouisfed.org\\/docs\\/api\\/api_key.html for more information.\"}\n",
      "Failed to retrieve data: 400\n",
      "{\"error_code\":400,\"error_message\":\"Bad Request.  The value for variable api_key is not a 32 character alpha-numeric lower-case string.  Read https:\\/\\/fred.stlouisfed.org\\/docs\\/api\\/api_key.html for more information.\"}\n",
      "Failed to retrieve data: 400\n",
      "{\"error_code\":400,\"error_message\":\"Bad Request.  The value for variable api_key is not a 32 character alpha-numeric lower-case string.  Read https:\\/\\/fred.stlouisfed.org\\/docs\\/api\\/api_key.html for more information.\"}\n",
      "Failed to retrieve data: 400\n",
      "{\"error_code\":400,\"error_message\":\"Bad Request.  The value for variable api_key is not a 32 character alpha-numeric lower-case string.  Read https:\\/\\/fred.stlouisfed.org\\/docs\\/api\\/api_key.html for more information.\"}\n",
      "Failed to retrieve data: 400\n",
      "{\"error_code\":400,\"error_message\":\"Bad Request.  The value for variable api_key is not a 32 character alpha-numeric lower-case string.  Read https:\\/\\/fred.stlouisfed.org\\/docs\\/api\\/api_key.html for more information.\"}\n",
      "Failed to retrieve data: 400\n",
      "{\"error_code\":400,\"error_message\":\"Bad Request.  The value for variable api_key is not a 32 character alpha-numeric lower-case string.  Read https:\\/\\/fred.stlouisfed.org\\/docs\\/api\\/api_key.html for more information.\"}\n"
     ]
    }
   ],
   "source": [
    "# Call the function to get data\n",
    "get_fred()"
   ]
  },
  {
   "cell_type": "code",
   "execution_count": null,
   "id": "23fef2d3-cc33-4e8d-ad5b-6eae3ebc0481",
   "metadata": {},
   "outputs": [],
   "source": []
  },
  {
   "cell_type": "code",
   "execution_count": null,
   "id": "bcd0c254-61b0-407d-9420-35105c500f1c",
   "metadata": {},
   "outputs": [],
   "source": []
  }
 ],
 "metadata": {
  "kernelspec": {
   "display_name": "Python 3 (ipykernel)",
   "language": "python",
   "name": "python3"
  },
  "language_info": {
   "codemirror_mode": {
    "name": "ipython",
    "version": 3
   },
   "file_extension": ".py",
   "mimetype": "text/x-python",
   "name": "python",
   "nbconvert_exporter": "python",
   "pygments_lexer": "ipython3",
   "version": "3.9.19"
  }
 },
 "nbformat": 4,
 "nbformat_minor": 5
}
