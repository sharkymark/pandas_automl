{
 "cells": [
  {
   "cell_type": "code",
   "execution_count": null,
   "metadata": {},
   "outputs": [],
   "source": [
    "# Jupyter notebook to analyze datasets to be used for machine learning training of models, and model scoring\n",
    "\n",
    "# import Pandas library to manipulate and analyze datasets\n",
    "import pandas as pd\n",
    "import numpy as np\n",
    "import os\n",
    "\n",
    "pd.set_option('display.max_columns',None)"
   ]
  },
  {
   "cell_type": "code",
   "execution_count": null,
   "metadata": {},
   "outputs": [],
   "source": [
    "# show all Coder workspace environment variables\n",
    "%env\n"
   ]
  },
  {
   "cell_type": "code",
   "execution_count": null,
   "metadata": {},
   "outputs": [],
   "source": [
    "# load datasets\n",
    "\n",
    "# telco provider customer churn\n",
    "df_churn_train = pd.read_csv('./sets/customer_churn_train.csv',sep=\",\", encoding = \"utf-8\", low_memory=False)\n",
    "df_churn_test = pd.read_csv('./sets/customer_churn_test.csv',sep=\",\", encoding = \"utf-8\", low_memory=False)\n",
    "\n",
    "# tumor malignant \n",
    "df_cancer_train = pd.read_csv('./sets/cancer_train.csv',sep=\",\", encoding = \"utf-8\", low_memory=False)\n",
    "df_cancer_test = pd.read_csv('./sets/market_train.csv',sep=\",\", encoding = \"utf-8\", low_memory=False)\n",
    "\n",
    "# hospital patient readmit\n",
    "df_readmit = pd.read_csv('./sets/patient_re_admit_train.csv',sep=\",\", encoding = \"utf-8\", low_memory=False)\n",
    "\n",
    "# boston housing sale data\n",
    "df_boston_housing = pd.read_csv('./sets/boston_housing_train.csv',sep=\",\", encoding = \"utf-8\", low_memory=False)\n",
    "\n",
    "# customer life-time value\n",
    "df_ltv = pd.read_csv('./sets/ltv_train.csv',sep=\",\", encoding = \"utf-8\", low_memory=False)\n",
    "\n",
    "# employee retention\n",
    "df_retention = pd.read_csv('./sets/retention_train.csv',sep=\",\", encoding = \"utf-8\", low_memory=False)\n",
    "\n",
    "# bank loan defaults\n",
    "df_loan_default = pd.read_csv('./sets/loan_default_dr_train.csv',sep=\",\", encoding = \"utf-8\", low_memory=False)\n",
    "\n",
    "# predictive maintenance for equipment\n",
    "df_pdm = pd.read_csv('./sets/pdm_machine_train.csv',sep=\",\", encoding = \"utf-8\", low_memory=False)\n",
    "\n",
    "# Vermont Public Safety datasets \n",
    "# https://data.vermont.gov/browse?q=public%20safety&sortBy=relevance\n",
    "# traffic fatalities\n",
    "df_traffic_fatalities = pd.read_json('https://data.vermont.gov/resource/kurq-9xgq.json')\n",
    "\n",
    "# dui\n",
    "df_dui = pd.read_json('https://data.vermont.gov/resource/cgjb-4rbe.json')\n",
    "\n",
    "# dui with crash\n",
    "df_dui_crash = pd.read_json('https://data.vermont.gov/resource/qpcy-6kzw.json')"
   ]
  },
  {
   "cell_type": "code",
   "execution_count": null,
   "metadata": {},
   "outputs": [],
   "source": []
  },
  {
   "cell_type": "code",
   "execution_count": null,
   "metadata": {},
   "outputs": [],
   "source": [
    "# employee retention analysis"
   ]
  },
  {
   "cell_type": "code",
   "execution_count": null,
   "metadata": {},
   "outputs": [],
   "source": [
    "df_retention.shape"
   ]
  },
  {
   "cell_type": "code",
   "execution_count": null,
   "metadata": {
    "collapsed": true,
    "jupyter": {
     "outputs_hidden": true
    },
    "tags": []
   },
   "outputs": [],
   "source": [
    "list(df_retention)"
   ]
  },
  {
   "cell_type": "code",
   "execution_count": null,
   "metadata": {
    "collapsed": true,
    "jupyter": {
     "outputs_hidden": true
    },
    "tags": []
   },
   "outputs": [],
   "source": [
    "df_retention.head(5)"
   ]
  },
  {
   "cell_type": "code",
   "execution_count": null,
   "metadata": {
    "collapsed": true,
    "jupyter": {
     "outputs_hidden": true
    },
    "tags": []
   },
   "outputs": [],
   "source": [
    "df_retention['group_id'].value_counts()"
   ]
  },
  {
   "cell_type": "code",
   "execution_count": null,
   "metadata": {},
   "outputs": [],
   "source": []
  },
  {
   "cell_type": "code",
   "execution_count": null,
   "metadata": {},
   "outputs": [],
   "source": [
    "# boston housing data"
   ]
  },
  {
   "cell_type": "code",
   "execution_count": null,
   "metadata": {
    "collapsed": true,
    "jupyter": {
     "outputs_hidden": true
    },
    "tags": []
   },
   "outputs": [],
   "source": [
    "df_boston_housing.shape"
   ]
  },
  {
   "cell_type": "code",
   "execution_count": null,
   "metadata": {
    "collapsed": true,
    "jupyter": {
     "outputs_hidden": true
    },
    "tags": []
   },
   "outputs": [],
   "source": [
    "df_boston_housing.head(5)"
   ]
  },
  {
   "cell_type": "code",
   "execution_count": null,
   "metadata": {
    "collapsed": true,
    "jupyter": {
     "outputs_hidden": true
    },
    "tags": []
   },
   "outputs": [],
   "source": [
    "df_boston_housing['Has_AC'].value_counts()"
   ]
  },
  {
   "cell_type": "code",
   "execution_count": null,
   "metadata": {},
   "outputs": [],
   "source": []
  },
  {
   "cell_type": "code",
   "execution_count": null,
   "metadata": {},
   "outputs": [],
   "source": [
    "# vermont dui data"
   ]
  },
  {
   "cell_type": "code",
   "execution_count": null,
   "metadata": {
    "collapsed": true,
    "jupyter": {
     "outputs_hidden": true
    },
    "tags": []
   },
   "outputs": [],
   "source": [
    "df_dui.head(5)"
   ]
  },
  {
   "cell_type": "code",
   "execution_count": null,
   "metadata": {
    "collapsed": true,
    "jupyter": {
     "outputs_hidden": true
    },
    "tags": []
   },
   "outputs": [],
   "source": [
    "df_dui['arrestee_gender'].value_counts()"
   ]
  },
  {
   "cell_type": "code",
   "execution_count": null,
   "metadata": {},
   "outputs": [],
   "source": []
  },
  {
   "cell_type": "code",
   "execution_count": null,
   "metadata": {},
   "outputs": [],
   "source": [
    "# vermont traffic fatalaties"
   ]
  },
  {
   "cell_type": "code",
   "execution_count": null,
   "metadata": {
    "collapsed": true,
    "jupyter": {
     "outputs_hidden": true
    },
    "tags": []
   },
   "outputs": [],
   "source": [
    "df_traffic_fatalities.head(5)"
   ]
  },
  {
   "cell_type": "code",
   "execution_count": null,
   "metadata": {
    "collapsed": true,
    "jupyter": {
     "outputs_hidden": true
    },
    "tags": []
   },
   "outputs": [],
   "source": [
    "df_traffic_fatalities['role'].value_counts()"
   ]
  },
  {
   "cell_type": "code",
   "execution_count": null,
   "metadata": {},
   "outputs": [],
   "source": []
  },
  {
   "cell_type": "code",
   "execution_count": null,
   "metadata": {},
   "outputs": [],
   "source": [
    "# customer churn data"
   ]
  },
  {
   "cell_type": "code",
   "execution_count": null,
   "metadata": {},
   "outputs": [],
   "source": [
    "df_churn_train.head(5)"
   ]
  },
  {
   "cell_type": "code",
   "execution_count": null,
   "metadata": {},
   "outputs": [],
   "source": [
    "# drop columns not relevant for training\n",
    "df=df_churn_train.drop(['Area Code','Phone'],axis=1)"
   ]
  },
  {
   "cell_type": "code",
   "execution_count": null,
   "metadata": {},
   "outputs": [],
   "source": [
    "# create a random train test ( 20 percent ) split\n",
    "msk = np.random.rand(len(df)) < 0.20\n",
    "train = df[~msk]\n",
    "test = df[msk]"
   ]
  },
  {
   "cell_type": "code",
   "execution_count": null,
   "metadata": {},
   "outputs": [],
   "source": [
    "train.shape"
   ]
  },
  {
   "cell_type": "code",
   "execution_count": null,
   "metadata": {},
   "outputs": [],
   "source": [
    "test.shape"
   ]
  },
  {
   "cell_type": "code",
   "execution_count": null,
   "metadata": {},
   "outputs": [],
   "source": []
  },
  {
   "cell_type": "code",
   "execution_count": null,
   "metadata": {},
   "outputs": [],
   "source": []
  },
  {
   "cell_type": "code",
   "execution_count": null,
   "metadata": {},
   "outputs": [],
   "source": [
    "# merge datasets\n",
    "df_both = pd.concat([train,test])"
   ]
  },
  {
   "cell_type": "code",
   "execution_count": null,
   "metadata": {},
   "outputs": [],
   "source": [
    "# num of rows\n",
    "df_both.shape"
   ]
  },
  {
   "cell_type": "code",
   "execution_count": null,
   "metadata": {},
   "outputs": [],
   "source": [
    "# write dataframe to csv\n",
    "df_both.to_csv('./sets/customer_churn.csv',index=False,sep=',')"
   ]
  }
 ],
 "metadata": {
  "kernelspec": {
   "display_name": "Python 3",
   "language": "python",
   "name": "python3"
  },
  "language_info": {
   "codemirror_mode": {
    "name": "ipython",
    "version": 3
   },
   "file_extension": ".py",
   "mimetype": "text/x-python",
   "name": "python",
   "nbconvert_exporter": "python",
   "pygments_lexer": "ipython3",
   "version": "3.8.10"
  },
  "vscode": {
   "interpreter": {
    "hash": "916dbcbb3f70747c44a77c7bcd40155683ae19c65e1c03b4aa3499c5328201f1"
   }
  }
 },
 "nbformat": 4,
 "nbformat_minor": 4
}
